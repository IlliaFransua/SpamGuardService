{
  "nbformat": 4,
  "nbformat_minor": 0,
  "metadata": {
    "colab": {
      "provenance": []
    },
    "kernelspec": {
      "name": "python3",
      "display_name": "Python 3"
    },
    "language_info": {
      "name": "python"
    }
  },
  "cells": [
    {
      "cell_type": "code",
      "source": [
        "# main_df = None\n",
        "\n",
        "main_train_df = None\n",
        "main_test_df = None"
      ],
      "metadata": {
        "id": "CQQGjMpeM7wr"
      },
      "execution_count": 317,
      "outputs": []
    },
    {
      "cell_type": "code",
      "source": [
        "import os\n",
        "import kagglehub\n",
        "import pandas as pd\n",
        "from sklearn.preprocessing import LabelEncoder\n",
        "from sklearn.model_selection import train_test_split\n",
        "\n",
        "def prepare_dataset(dataset, label, text):\n",
        "  dataset = dataset.copy()\n",
        "\n",
        "  encoder = LabelEncoder()\n",
        "  dataset[label] = encoder.fit_transform(dataset[label])\n",
        "\n",
        "  dataset = dataset.rename(columns={label: 'label', text: 'text'})\n",
        "  dataset = dataset.drop_duplicates(keep = 'first')\n",
        "  dataset = dataset.dropna()\n",
        "\n",
        "  dataset = dataset[['label', 'text']]\n",
        "\n",
        "  print(dataset.head())\n",
        "  print(dataset.isnull().sum())\n",
        "  print(dataset['label'].unique())\n",
        "  print(dataset.shape)\n",
        "\n",
        "  return dataset\n",
        "\n",
        "# def concat_with(dataset):\n",
        "#   global main_df\n",
        "\n",
        "#   if main_df is None:\n",
        "#     main_df = dataset\n",
        "#   else:\n",
        "#     dataset = dataset[['label', 'text']]\n",
        "#     main_df = pd.concat([main_df, dataset], ignore_index=True)\n",
        "\n",
        "#   main_df = main_df.drop_duplicates(subset=['label', 'text'], keep='first')\n",
        "#   main_df = main_df.dropna()\n",
        "\n",
        "#   print(main_df.head())\n",
        "#   print(main_df.isnull().sum())\n",
        "#   print(main_df['label'].unique())\n",
        "#   print(main_df.shape)\n",
        "\n",
        "#   return main_df\n",
        "\n",
        "main_train_df = None\n",
        "main_test_df = None\n",
        "\n",
        "def concat_with(dataset):\n",
        "    # TODO: delete empty rows\n",
        "    global main_train_df, main_test_df\n",
        "\n",
        "    dataset = dataset[['label', 'text']].drop_duplicates(subset=['label', 'text'], keep='first').dropna()\n",
        "\n",
        "    if main_train_df is not None:\n",
        "        dataset = dataset[~dataset.apply(lambda row: ((row['label'], row['text']) in zip(main_train_df['label'], main_train_df['text'])), axis=1)]\n",
        "\n",
        "    if main_test_df is not None:\n",
        "        dataset = dataset[~dataset.apply(lambda row: ((row['label'], row['text']) in zip(main_test_df['label'], main_test_df['text'])), axis=1)]\n",
        "\n",
        "    if dataset.empty:\n",
        "        return main_train_df, main_test_df\n",
        "\n",
        "    train_df, test_df = train_test_split(dataset, test_size=0.2, random_state=42)\n",
        "\n",
        "    if main_train_df is None:\n",
        "        main_train_df = train_df\n",
        "    else:\n",
        "        main_train_df = pd.concat([main_train_df, train_df], ignore_index=True)\n",
        "\n",
        "    if main_test_df is None:\n",
        "        main_test_df = test_df\n",
        "    else:\n",
        "        main_test_df = pd.concat([main_test_df, test_df], ignore_index=True)\n",
        "\n",
        "    print(\"Train shape:\", main_train_df.shape)\n",
        "    print(\"Test shape:\", main_test_df.shape)\n",
        "\n",
        "    return main_train_df, main_test_df"
      ],
      "metadata": {
        "id": "yOxqm-3xUycO"
      },
      "execution_count": 9,
      "outputs": []
    },
    {
      "cell_type": "code",
      "execution_count": 319,
      "metadata": {
        "colab": {
          "base_uri": "https://localhost:8080/"
        },
        "id": "mjH7FM8gnu-n",
        "outputId": "275518ab-eb2f-48ac-e791-37e04b88f9c9"
      },
      "outputs": [
        {
          "output_type": "stream",
          "name": "stdout",
          "text": [
            "Files in dataset directory: ['spam.csv']\n",
            "  Category                                            Message\n",
            "0      ham  Go until jurong point, crazy.. Available only ...\n",
            "1      ham                      Ok lar... Joking wif u oni...\n",
            "2     spam  Free entry in 2 a wkly comp to win FA Cup fina...\n",
            "3      ham  U dun say so early hor... U c already then say...\n",
            "4      ham  Nah I don't think he goes to usf, he lives aro...\n"
          ]
        }
      ],
      "source": [
        "# Download latest version\n",
        "path = kagglehub.dataset_download(\"abdallahwagih/spam-emails\")\n",
        "\n",
        "files = os.listdir(path)\n",
        "print(\"Files in dataset directory:\", files)\n",
        "\n",
        "csv_file_path = os.path.join(path, \"spam.csv\")\n",
        "df = pd.read_csv(csv_file_path)\n",
        "\n",
        "print(df.head())"
      ]
    },
    {
      "cell_type": "code",
      "source": [
        "df = prepare_dataset(df, \"Category\", \"Message\")"
      ],
      "metadata": {
        "colab": {
          "base_uri": "https://localhost:8080/"
        },
        "id": "QrAAD48xEAbr",
        "outputId": "977c8186-86ad-4c07-a1bf-5d31ca891fbf"
      },
      "execution_count": 320,
      "outputs": [
        {
          "output_type": "stream",
          "name": "stdout",
          "text": [
            "   label                                               text\n",
            "0      0  Go until jurong point, crazy.. Available only ...\n",
            "1      0                      Ok lar... Joking wif u oni...\n",
            "2      1  Free entry in 2 a wkly comp to win FA Cup fina...\n",
            "3      0  U dun say so early hor... U c already then say...\n",
            "4      0  Nah I don't think he goes to usf, he lives aro...\n",
            "label    0\n",
            "text     0\n",
            "dtype: int64\n",
            "[0 1]\n",
            "(5157, 2)\n"
          ]
        }
      ]
    },
    {
      "cell_type": "code",
      "source": [
        "concat_with(df)"
      ],
      "metadata": {
        "colab": {
          "base_uri": "https://localhost:8080/"
        },
        "id": "w8N8b6PFZaA0",
        "outputId": "3fa06f9f-ac8a-41e3-b4b9-64b62e31a7b0"
      },
      "execution_count": 321,
      "outputs": [
        {
          "output_type": "stream",
          "name": "stdout",
          "text": [
            "Train shape: (4125, 2)\n",
            "Test shape: (1032, 2)\n"
          ]
        },
        {
          "output_type": "execute_result",
          "data": {
            "text/plain": [
              "(      label                                               text\n",
              " 2598      0  Got fujitsu, ibm, hp, toshiba... Got a lot of ...\n",
              " 5418      0  So how are you really. What are you up to. How...\n",
              " 99        0                    I see a cup of coffee animation\n",
              " 2321      0      This pain couldn't have come at a worse time.\n",
              " 2388      0                             Also where's the piece\n",
              " ...     ...                                                ...\n",
              " 4750      0  Thanx u darlin!im cool thanx. A few bday drink...\n",
              " 474       1  Want 2 get laid tonight? Want real Dogging loc...\n",
              " 3273      0  MOON has come to color your dreams, STARS to m...\n",
              " 4022      0              We have to pick rayan macleran there.\n",
              " 882       0  see, i knew giving you a break a few times wou...\n",
              " \n",
              " [4125 rows x 2 columns],\n",
              "       label                                               text\n",
              " 3031      0  Also sir, i sent you an email about how to log...\n",
              " 495       0                   Are you free now?can i call now?\n",
              " 2942      0  My supervisor find 4 me one lor i thk his stud...\n",
              " 3911      0  She.s good. She was wondering if you wont say ...\n",
              " 3360      1  Sorry I missed your call let's talk when you h...\n",
              " ...     ...                                                ...\n",
              " 2513      0  Hiya , have u been paying money into my accoun...\n",
              " 1943      0     K...k:)why cant you come here and search job:)\n",
              " 3038      0     Cos darren say ü considering mah so i ask ü...\n",
              " 3340      0  Babe !!!! I LOVE YOU !!!! *covers your face in...\n",
              " 5058      0  Hey next sun 1030 there's a basic yoga course....\n",
              " \n",
              " [1032 rows x 2 columns])"
            ]
          },
          "metadata": {},
          "execution_count": 321
        }
      ]
    },
    {
      "cell_type": "code",
      "source": [
        "# Download latest version\n",
        "path = kagglehub.dataset_download(\"uciml/sms-spam-collection-dataset\")\n",
        "\n",
        "files = os.listdir(path)\n",
        "print(\"Files in dataset directory:\", files)\n",
        "\n",
        "csv_file_path = os.path.join(path, \"spam.csv\")\n",
        "df = pd.read_csv(csv_file_path, encoding='latin1')\n",
        "\n",
        "df.drop(columns = ['Unnamed: 2', 'Unnamed: 3', 'Unnamed: 4'], inplace = True)\n",
        "\n",
        "print(df.head())"
      ],
      "metadata": {
        "colab": {
          "base_uri": "https://localhost:8080/"
        },
        "id": "DIy7y-Hj7AJt",
        "outputId": "da443848-9d28-4475-e9f6-a6290d451ca9"
      },
      "execution_count": 322,
      "outputs": [
        {
          "output_type": "stream",
          "name": "stdout",
          "text": [
            "Files in dataset directory: ['spam.csv']\n",
            "     v1                                                 v2\n",
            "0   ham  Go until jurong point, crazy.. Available only ...\n",
            "1   ham                      Ok lar... Joking wif u oni...\n",
            "2  spam  Free entry in 2 a wkly comp to win FA Cup fina...\n",
            "3   ham  U dun say so early hor... U c already then say...\n",
            "4   ham  Nah I don't think he goes to usf, he lives aro...\n"
          ]
        }
      ]
    },
    {
      "cell_type": "code",
      "source": [
        "df = prepare_dataset(df, \"v1\", \"v2\")"
      ],
      "metadata": {
        "colab": {
          "base_uri": "https://localhost:8080/"
        },
        "id": "wzA4rQ7wa9AQ",
        "outputId": "0fad0e98-105f-442b-8886-d0cd46084ffe"
      },
      "execution_count": 323,
      "outputs": [
        {
          "output_type": "stream",
          "name": "stdout",
          "text": [
            "   label                                               text\n",
            "0      0  Go until jurong point, crazy.. Available only ...\n",
            "1      0                      Ok lar... Joking wif u oni...\n",
            "2      1  Free entry in 2 a wkly comp to win FA Cup fina...\n",
            "3      0  U dun say so early hor... U c already then say...\n",
            "4      0  Nah I don't think he goes to usf, he lives aro...\n",
            "label    0\n",
            "text     0\n",
            "dtype: int64\n",
            "[0 1]\n",
            "(5169, 2)\n"
          ]
        }
      ]
    },
    {
      "cell_type": "code",
      "source": [
        "concat_with(df)"
      ],
      "metadata": {
        "colab": {
          "base_uri": "https://localhost:8080/"
        },
        "id": "F735iBQHbi9X",
        "outputId": "eefce281-50d0-4324-9224-e3d16a09fd90"
      },
      "execution_count": 324,
      "outputs": [
        {
          "output_type": "stream",
          "name": "stdout",
          "text": [
            "Train shape: (4694, 2)\n",
            "Test shape: (1175, 2)\n"
          ]
        },
        {
          "output_type": "execute_result",
          "data": {
            "text/plain": [
              "(      label                                               text\n",
              " 0         0  Got fujitsu, ibm, hp, toshiba... Got a lot of ...\n",
              " 1         0  So how are you really. What are you up to. How...\n",
              " 2         0                    I see a cup of coffee animation\n",
              " 3         0      This pain couldn't have come at a worse time.\n",
              " 4         0                             Also where's the piece\n",
              " ...     ...                                                ...\n",
              " 4689      1  our mobile number has won å£5000, to claim cal...\n",
              " 4690      1  5 Free Top Polyphonic Tones call 087018728737,...\n",
              " 4691      0  Beautiful Truth against Gravity.. Read careful...\n",
              " 4692      0  'An Amazing Quote'' - \\Sometimes in life its d...\n",
              " 4693      0  Wishing you and your family Merry \\X\\\" mas and...\n",
              " \n",
              " [4694 rows x 2 columns],\n",
              "       label                                               text\n",
              " 0         0  Also sir, i sent you an email about how to log...\n",
              " 1         0                   Are you free now?can i call now?\n",
              " 2         0  My supervisor find 4 me one lor i thk his stud...\n",
              " 3         0  She.s good. She was wondering if you wont say ...\n",
              " 4         1  Sorry I missed your call let's talk when you h...\n",
              " ...     ...                                                ...\n",
              " 1170      0  Yup i shd haf ard 10 pages if i add figures......\n",
              " 1171      1  500 New Mobiles from 2004, MUST GO! Txt: NOKIA...\n",
              " 1172      0  \\Petey boy whereare you me and all your friend...\n",
              " 1173      0                       I havent add Ì_ yet right.. \n",
              " 1174      0  Well done, blimey, exercise, yeah, i kinda rem...\n",
              " \n",
              " [1175 rows x 2 columns])"
            ]
          },
          "metadata": {},
          "execution_count": 324
        }
      ]
    },
    {
      "cell_type": "code",
      "source": [
        "# Download latest version\n",
        "path = kagglehub.dataset_download(\"ashfakyeafi/spam-email-classification\")\n",
        "\n",
        "files = os.listdir(path)\n",
        "print(\"Files in dataset directory:\", files)\n",
        "\n",
        "csv_file_path = os.path.join(path, \"email.csv\")\n",
        "df = pd.read_csv(csv_file_path)\n",
        "\n",
        "print(df.head())"
      ],
      "metadata": {
        "colab": {
          "base_uri": "https://localhost:8080/"
        },
        "id": "BxaVOFM87PQj",
        "outputId": "d997de13-b16f-4b0e-e418-35d9c36f9862"
      },
      "execution_count": 325,
      "outputs": [
        {
          "output_type": "stream",
          "name": "stdout",
          "text": [
            "Files in dataset directory: ['email.csv']\n",
            "  Category                                            Message\n",
            "0      ham  Go until jurong point, crazy.. Available only ...\n",
            "1      ham                      Ok lar... Joking wif u oni...\n",
            "2     spam  Free entry in 2 a wkly comp to win FA Cup fina...\n",
            "3      ham  U dun say so early hor... U c already then say...\n",
            "4      ham  Nah I don't think he goes to usf, he lives aro...\n"
          ]
        }
      ]
    },
    {
      "cell_type": "code",
      "source": [
        "df[\"Category\"].unique()"
      ],
      "metadata": {
        "colab": {
          "base_uri": "https://localhost:8080/"
        },
        "id": "ZBdYGjtNVuxc",
        "outputId": "c0b5e18a-92ce-452f-de75-5cedb3e93c70"
      },
      "execution_count": 326,
      "outputs": [
        {
          "output_type": "execute_result",
          "data": {
            "text/plain": [
              "array(['ham', 'spam', '{\"mode\":\"full\"'], dtype=object)"
            ]
          },
          "metadata": {},
          "execution_count": 326
        }
      ]
    },
    {
      "cell_type": "code",
      "source": [
        "df = df[df['Category'] != '{\"mode\":\"full\"']\n",
        "df[\"Category\"].unique()"
      ],
      "metadata": {
        "colab": {
          "base_uri": "https://localhost:8080/"
        },
        "id": "s2a7VzmCV7zo",
        "outputId": "c4b99e7a-1b0a-4799-fa8e-934a127172a1"
      },
      "execution_count": 327,
      "outputs": [
        {
          "output_type": "execute_result",
          "data": {
            "text/plain": [
              "array(['ham', 'spam'], dtype=object)"
            ]
          },
          "metadata": {},
          "execution_count": 327
        }
      ]
    },
    {
      "cell_type": "code",
      "source": [
        "df = prepare_dataset(df, \"Category\", \"Message\")"
      ],
      "metadata": {
        "colab": {
          "base_uri": "https://localhost:8080/"
        },
        "id": "0GD8jjrIOd6A",
        "outputId": "d3e20c7d-a9fe-4795-9225-f42f4ca5f4bf"
      },
      "execution_count": 328,
      "outputs": [
        {
          "output_type": "stream",
          "name": "stdout",
          "text": [
            "   label                                               text\n",
            "0      0  Go until jurong point, crazy.. Available only ...\n",
            "1      0                      Ok lar... Joking wif u oni...\n",
            "2      1  Free entry in 2 a wkly comp to win FA Cup fina...\n",
            "3      0  U dun say so early hor... U c already then say...\n",
            "4      0  Nah I don't think he goes to usf, he lives aro...\n",
            "label    0\n",
            "text     0\n",
            "dtype: int64\n",
            "[0 1]\n",
            "(5157, 2)\n"
          ]
        }
      ]
    },
    {
      "cell_type": "code",
      "source": [
        "concat_with(df)"
      ],
      "metadata": {
        "colab": {
          "base_uri": "https://localhost:8080/"
        },
        "id": "V-0UICJLPmlK",
        "outputId": "4654b857-2e52-48ec-eeb6-148617f42d5e"
      },
      "execution_count": 329,
      "outputs": [
        {
          "output_type": "execute_result",
          "data": {
            "text/plain": [
              "(      label                                               text\n",
              " 0         0  Got fujitsu, ibm, hp, toshiba... Got a lot of ...\n",
              " 1         0  So how are you really. What are you up to. How...\n",
              " 2         0                    I see a cup of coffee animation\n",
              " 3         0      This pain couldn't have come at a worse time.\n",
              " 4         0                             Also where's the piece\n",
              " ...     ...                                                ...\n",
              " 4689      1  our mobile number has won å£5000, to claim cal...\n",
              " 4690      1  5 Free Top Polyphonic Tones call 087018728737,...\n",
              " 4691      0  Beautiful Truth against Gravity.. Read careful...\n",
              " 4692      0  'An Amazing Quote'' - \\Sometimes in life its d...\n",
              " 4693      0  Wishing you and your family Merry \\X\\\" mas and...\n",
              " \n",
              " [4694 rows x 2 columns],\n",
              "       label                                               text\n",
              " 0         0  Also sir, i sent you an email about how to log...\n",
              " 1         0                   Are you free now?can i call now?\n",
              " 2         0  My supervisor find 4 me one lor i thk his stud...\n",
              " 3         0  She.s good. She was wondering if you wont say ...\n",
              " 4         1  Sorry I missed your call let's talk when you h...\n",
              " ...     ...                                                ...\n",
              " 1170      0  Yup i shd haf ard 10 pages if i add figures......\n",
              " 1171      1  500 New Mobiles from 2004, MUST GO! Txt: NOKIA...\n",
              " 1172      0  \\Petey boy whereare you me and all your friend...\n",
              " 1173      0                       I havent add Ì_ yet right.. \n",
              " 1174      0  Well done, blimey, exercise, yeah, i kinda rem...\n",
              " \n",
              " [1175 rows x 2 columns])"
            ]
          },
          "metadata": {},
          "execution_count": 329
        }
      ]
    },
    {
      "cell_type": "code",
      "source": [
        "# Download latest version\n",
        "path = kagglehub.dataset_download(\"ozlerhakan/spam-or-not-spam-dataset\")\n",
        "\n",
        "files = os.listdir(path)\n",
        "print(\"Files in dataset directory:\", files)\n",
        "\n",
        "csv_file_path = os.path.join(path, \"spam_or_not_spam.csv\")\n",
        "df = pd.read_csv(csv_file_path)\n",
        "\n",
        "print(df.head())"
      ],
      "metadata": {
        "colab": {
          "base_uri": "https://localhost:8080/"
        },
        "id": "pY7MlRJF7ou_",
        "outputId": "59d2044b-77e5-4a18-8946-eb9f638d6612"
      },
      "execution_count": 330,
      "outputs": [
        {
          "output_type": "stream",
          "name": "stdout",
          "text": [
            "Files in dataset directory: ['spam_or_not_spam.csv']\n",
            "                                               email  label\n",
            "0   date wed NUMBER aug NUMBER NUMBER NUMBER NUMB...      0\n",
            "1  martin a posted tassos papadopoulos the greek ...      0\n",
            "2  man threatens explosion in moscow thursday aug...      0\n",
            "3  klez the virus that won t die already the most...      0\n",
            "4   in adding cream to spaghetti carbonara which ...      0\n"
          ]
        }
      ]
    },
    {
      "cell_type": "code",
      "source": [
        "df = prepare_dataset(df, \"label\", \"email\")"
      ],
      "metadata": {
        "colab": {
          "base_uri": "https://localhost:8080/"
        },
        "id": "WqlEk62bXJnz",
        "outputId": "24e60f85-1b3d-490b-9dde-306564f39c9d"
      },
      "execution_count": 331,
      "outputs": [
        {
          "output_type": "stream",
          "name": "stdout",
          "text": [
            "   label                                               text\n",
            "0      0   date wed NUMBER aug NUMBER NUMBER NUMBER NUMB...\n",
            "1      0  martin a posted tassos papadopoulos the greek ...\n",
            "2      0  man threatens explosion in moscow thursday aug...\n",
            "3      0  klez the virus that won t die already the most...\n",
            "4      0   in adding cream to spaghetti carbonara which ...\n",
            "label    0\n",
            "text     0\n",
            "dtype: int64\n",
            "[0 1]\n",
            "(2872, 2)\n"
          ]
        }
      ]
    },
    {
      "cell_type": "code",
      "source": [
        "df[df[\"label\"] == 1][\"text\"].iloc[0]"
      ],
      "metadata": {
        "colab": {
          "base_uri": "https://localhost:8080/",
          "height": 214
        },
        "id": "kCuNuHbM82Oy",
        "outputId": "19957f1b-8d39-4e80-dd95-d4dd8b814519"
      },
      "execution_count": 332,
      "outputs": [
        {
          "output_type": "execute_result",
          "data": {
            "text/plain": [
              "' save up to NUMBER on life insurance why spend more than you have to life quote savings ensuring your family s financial security is very important life quote savings makes buying life insurance simple and affordable we provide free access to the very best companies and the lowest rates life quote savings is fast easy and saves you money let us help you get started with the best values in the country on new coverage you can save hundreds or even thousands of dollars by requesting a free quote from lifequote savings our service will take you less than NUMBER minutes to complete shop and compare save up to NUMBER on all types of life insurance hyperlink click here for your free quote protecting your family is the best investment you ll ever make if you are in receipt of this email in error and or wish to be removed from our list hyperlink please click here and type remove if you reside in any state which prohibits e mail solicitations for insurance please disregard this email '"
            ],
            "application/vnd.google.colaboratory.intrinsic+json": {
              "type": "string"
            }
          },
          "metadata": {},
          "execution_count": 332
        }
      ]
    },
    {
      "cell_type": "code",
      "source": [
        "concat_with(df)"
      ],
      "metadata": {
        "colab": {
          "base_uri": "https://localhost:8080/"
        },
        "id": "8c1_RHlXc5Zm",
        "outputId": "7b5bbdbd-e5b7-4856-ba72-92a1abc6b115"
      },
      "execution_count": 333,
      "outputs": [
        {
          "output_type": "stream",
          "name": "stdout",
          "text": [
            "Train shape: (6991, 2)\n",
            "Test shape: (1750, 2)\n"
          ]
        },
        {
          "output_type": "execute_result",
          "data": {
            "text/plain": [
              "(      label                                               text\n",
              " 0         0  Got fujitsu, ibm, hp, toshiba... Got a lot of ...\n",
              " 1         0  So how are you really. What are you up to. How...\n",
              " 2         0                    I see a cup of coffee animation\n",
              " 3         0      This pain couldn't have come at a worse time.\n",
              " 4         0                             Also where's the piece\n",
              " ...     ...                                                ...\n",
              " 6986      0  on NUMBER sep NUMBER at NUMBER NUMBER guido va...\n",
              " 6987      0  on wed feb NUMBER NUMBER at NUMBER NUMBER NUMB...\n",
              " 6988      0   it seems that something changed during the la...\n",
              " 6989      0  on mon NUMBER oct NUMBER jesse keating wrote o...\n",
              " 6990      0   over on arstechnica www arstechnica com i saw...\n",
              " \n",
              " [6991 rows x 2 columns],\n",
              "       label                                               text\n",
              " 0         0  Also sir, i sent you an email about how to log...\n",
              " 1         0                   Are you free now?can i call now?\n",
              " 2         0  My supervisor find 4 me one lor i thk his stud...\n",
              " 3         0  She.s good. She was wondering if you wont say ...\n",
              " 4         1  Sorry I missed your call let's talk when you h...\n",
              " ...     ...                                                ...\n",
              " 1745      0  url URL date not supplied ben hammersley posts...\n",
              " 1746      0  rohit khare wrote why am i so passionate about...\n",
              " 1747      0  url URL date NUMBER NUMBER NUMBERtNUMBER NUMBE...\n",
              " 1748      0  hello again i tried all the suggestions for th...\n",
              " 1749      1   write down hello it is time to refinance your...\n",
              " \n",
              " [1750 rows x 2 columns])"
            ]
          },
          "metadata": {},
          "execution_count": 333
        }
      ]
    },
    {
      "cell_type": "code",
      "source": [
        "# Download latest version\n",
        "path = kagglehub.dataset_download(\"venky73/spam-mails-dataset\")\n",
        "\n",
        "files = os.listdir(path)\n",
        "print(\"Files in dataset directory:\", files)\n",
        "\n",
        "csv_file_path = os.path.join(path, \"spam_ham_dataset.csv\")\n",
        "df = pd.read_csv(csv_file_path)\n",
        "\n",
        "print(df.head())"
      ],
      "metadata": {
        "colab": {
          "base_uri": "https://localhost:8080/"
        },
        "id": "dtDnpnwL8lCJ",
        "outputId": "c753c60a-a02f-446c-bf06-0d5cfb907e98"
      },
      "execution_count": 334,
      "outputs": [
        {
          "output_type": "stream",
          "name": "stdout",
          "text": [
            "Files in dataset directory: ['spam_ham_dataset.csv']\n",
            "   Unnamed: 0 label                                               text  \\\n",
            "0         605   ham  Subject: enron methanol ; meter # : 988291\\r\\n...   \n",
            "1        2349   ham  Subject: hpl nom for january 9 , 2001\\r\\n( see...   \n",
            "2        3624   ham  Subject: neon retreat\\r\\nho ho ho , we ' re ar...   \n",
            "3        4685  spam  Subject: photoshop , windows , office . cheap ...   \n",
            "4        2030   ham  Subject: re : indian springs\\r\\nthis deal is t...   \n",
            "\n",
            "   label_num  \n",
            "0          0  \n",
            "1          0  \n",
            "2          0  \n",
            "3          1  \n",
            "4          0  \n"
          ]
        }
      ]
    },
    {
      "cell_type": "code",
      "source": [
        "df = prepare_dataset(df, \"label\", \"text\")"
      ],
      "metadata": {
        "colab": {
          "base_uri": "https://localhost:8080/"
        },
        "id": "llkvQUcgdJhr",
        "outputId": "6e66af1d-db80-4478-ccda-180e525f79c2"
      },
      "execution_count": 335,
      "outputs": [
        {
          "output_type": "stream",
          "name": "stdout",
          "text": [
            "   label                                               text\n",
            "0      0  Subject: enron methanol ; meter # : 988291\\r\\n...\n",
            "1      0  Subject: hpl nom for january 9 , 2001\\r\\n( see...\n",
            "2      0  Subject: neon retreat\\r\\nho ho ho , we ' re ar...\n",
            "3      1  Subject: photoshop , windows , office . cheap ...\n",
            "4      0  Subject: re : indian springs\\r\\nthis deal is t...\n",
            "label    0\n",
            "text     0\n",
            "dtype: int64\n",
            "[0 1]\n",
            "(5171, 2)\n"
          ]
        }
      ]
    },
    {
      "cell_type": "code",
      "source": [
        "df['text'] = df['text'].str.replace(r'Subject:\\s*', '', regex=True)\n",
        "print(df.head())"
      ],
      "metadata": {
        "colab": {
          "base_uri": "https://localhost:8080/"
        },
        "id": "_Xxgkj8TgYBa",
        "outputId": "cfe3eaef-538b-4b03-cc50-16ab99849d9c"
      },
      "execution_count": 336,
      "outputs": [
        {
          "output_type": "stream",
          "name": "stdout",
          "text": [
            "   label                                               text\n",
            "0      0  enron methanol ; meter # : 988291\\r\\nthis is a...\n",
            "1      0  hpl nom for january 9 , 2001\\r\\n( see attached...\n",
            "2      0  neon retreat\\r\\nho ho ho , we ' re around to t...\n",
            "3      1  photoshop , windows , office . cheap . main tr...\n",
            "4      0  re : indian springs\\r\\nthis deal is to book th...\n"
          ]
        }
      ]
    },
    {
      "cell_type": "code",
      "source": [
        "df[df[\"label\"] == 1][\"text\"].iloc[0]"
      ],
      "metadata": {
        "colab": {
          "base_uri": "https://localhost:8080/",
          "height": 107
        },
        "id": "fN-jHfF6-DMA",
        "outputId": "4e4cef85-358c-4338-c7e7-e3b2b6fb1b95"
      },
      "execution_count": 337,
      "outputs": [
        {
          "output_type": "execute_result",
          "data": {
            "text/plain": [
              "'photoshop , windows , office . cheap . main trending\\r\\nabasements darer prudently fortuitous undergone\\r\\nlighthearted charm orinoco taster\\r\\nrailroad affluent pornographic cuvier\\r\\nirvin parkhouse blameworthy chlorophyll\\r\\nrobed diagrammatic fogarty clears bayda\\r\\ninconveniencing managing represented smartness hashish\\r\\nacademies shareholders unload badness\\r\\ndanielson pure caffein\\r\\nspaniard chargeable levin\\r\\n'"
            ],
            "application/vnd.google.colaboratory.intrinsic+json": {
              "type": "string"
            }
          },
          "metadata": {},
          "execution_count": 337
        }
      ]
    },
    {
      "cell_type": "code",
      "source": [
        "concat_with(df)"
      ],
      "metadata": {
        "colab": {
          "base_uri": "https://localhost:8080/"
        },
        "id": "MQnErvlqgXHr",
        "outputId": "7cd03a98-06c2-464e-9ee3-642c7d210fff"
      },
      "execution_count": 338,
      "outputs": [
        {
          "output_type": "stream",
          "name": "stdout",
          "text": [
            "Train shape: (10985, 2)\n",
            "Test shape: (2749, 2)\n"
          ]
        },
        {
          "output_type": "execute_result",
          "data": {
            "text/plain": [
              "(       label                                               text\n",
              " 0          0  Got fujitsu, ibm, hp, toshiba... Got a lot of ...\n",
              " 1          0  So how are you really. What are you up to. How...\n",
              " 2          0                    I see a cup of coffee animation\n",
              " 3          0      This pain couldn't have come at a worse time.\n",
              " 4          0                             Also where's the piece\n",
              " ...      ...                                                ...\n",
              " 10980      1  get your hand clock repliacs todday carson\\r\\n...\n",
              " 10981      1  a huge load inside her pussy .\\r\\nembattle sla...\n",
              " 10982      1                         best software prices .\\r\\n\n",
              " 10983      0  natural gas nomination for december 2000 - - r...\n",
              " 10984      0  defs may 2001\\r\\ndaren :\\r\\nplease enter a dem...\n",
              " \n",
              " [10985 rows x 2 columns],\n",
              "       label                                               text\n",
              " 0         0  Also sir, i sent you an email about how to log...\n",
              " 1         0                   Are you free now?can i call now?\n",
              " 2         0  My supervisor find 4 me one lor i thk his stud...\n",
              " 3         0  She.s good. She was wondering if you wont say ...\n",
              " 4         1  Sorry I missed your call let's talk when you h...\n",
              " ...     ...                                                ...\n",
              " 2744      0  re : copano line gain contract needed at meter...\n",
              " 2745      1  discount meds right from home\\r\\nvalium , xana...\n",
              " 2746      0  mobil beaumont\\r\\nbrian nichols of exxonmobil ...\n",
              " 2747      0  re : occidental battleground meter 98 - 1485 o...\n",
              " 2748      1     growth is good\\r\\nclick here to be removed\\r\\n\n",
              " \n",
              " [2749 rows x 2 columns])"
            ]
          },
          "metadata": {},
          "execution_count": 338
        }
      ]
    },
    {
      "cell_type": "code",
      "source": [
        "# Download latest version\n",
        "path = kagglehub.dataset_download(\"mfaisalqureshi/spam-email\")\n",
        "\n",
        "files = os.listdir(path)\n",
        "print(\"Files in dataset directory:\", files)\n",
        "\n",
        "csv_file_path = os.path.join(path, \"spam.csv\")\n",
        "df = pd.read_csv(csv_file_path)\n",
        "\n",
        "print(df.head())"
      ],
      "metadata": {
        "colab": {
          "base_uri": "https://localhost:8080/"
        },
        "id": "WvQqVbut85gU",
        "outputId": "91ded2f2-3255-4897-84e1-f5751cc18239"
      },
      "execution_count": 339,
      "outputs": [
        {
          "output_type": "stream",
          "name": "stdout",
          "text": [
            "Files in dataset directory: ['spam.csv']\n",
            "  Category                                            Message\n",
            "0      ham  Go until jurong point, crazy.. Available only ...\n",
            "1      ham                      Ok lar... Joking wif u oni...\n",
            "2     spam  Free entry in 2 a wkly comp to win FA Cup fina...\n",
            "3      ham  U dun say so early hor... U c already then say...\n",
            "4      ham  Nah I don't think he goes to usf, he lives aro...\n"
          ]
        }
      ]
    },
    {
      "cell_type": "code",
      "source": [
        "df = prepare_dataset(df, \"Category\", \"Message\")"
      ],
      "metadata": {
        "colab": {
          "base_uri": "https://localhost:8080/"
        },
        "id": "B9P_gS3khBrl",
        "outputId": "9470f4d7-4172-4a60-b325-7250818ed9f2"
      },
      "execution_count": 340,
      "outputs": [
        {
          "output_type": "stream",
          "name": "stdout",
          "text": [
            "   label                                               text\n",
            "0      0  Go until jurong point, crazy.. Available only ...\n",
            "1      0                      Ok lar... Joking wif u oni...\n",
            "2      1  Free entry in 2 a wkly comp to win FA Cup fina...\n",
            "3      0  U dun say so early hor... U c already then say...\n",
            "4      0  Nah I don't think he goes to usf, he lives aro...\n",
            "label    0\n",
            "text     0\n",
            "dtype: int64\n",
            "[0 1]\n",
            "(5157, 2)\n"
          ]
        }
      ]
    },
    {
      "cell_type": "code",
      "source": [
        "concat_with(df)"
      ],
      "metadata": {
        "colab": {
          "base_uri": "https://localhost:8080/"
        },
        "id": "qLFaHTSChMuN",
        "outputId": "27fdaba3-a1a0-4df7-8fca-b19170fdca38"
      },
      "execution_count": 341,
      "outputs": [
        {
          "output_type": "execute_result",
          "data": {
            "text/plain": [
              "(       label                                               text\n",
              " 0          0  Got fujitsu, ibm, hp, toshiba... Got a lot of ...\n",
              " 1          0  So how are you really. What are you up to. How...\n",
              " 2          0                    I see a cup of coffee animation\n",
              " 3          0      This pain couldn't have come at a worse time.\n",
              " 4          0                             Also where's the piece\n",
              " ...      ...                                                ...\n",
              " 10980      1  get your hand clock repliacs todday carson\\r\\n...\n",
              " 10981      1  a huge load inside her pussy .\\r\\nembattle sla...\n",
              " 10982      1                         best software prices .\\r\\n\n",
              " 10983      0  natural gas nomination for december 2000 - - r...\n",
              " 10984      0  defs may 2001\\r\\ndaren :\\r\\nplease enter a dem...\n",
              " \n",
              " [10985 rows x 2 columns],\n",
              "       label                                               text\n",
              " 0         0  Also sir, i sent you an email about how to log...\n",
              " 1         0                   Are you free now?can i call now?\n",
              " 2         0  My supervisor find 4 me one lor i thk his stud...\n",
              " 3         0  She.s good. She was wondering if you wont say ...\n",
              " 4         1  Sorry I missed your call let's talk when you h...\n",
              " ...     ...                                                ...\n",
              " 2744      0  re : copano line gain contract needed at meter...\n",
              " 2745      1  discount meds right from home\\r\\nvalium , xana...\n",
              " 2746      0  mobil beaumont\\r\\nbrian nichols of exxonmobil ...\n",
              " 2747      0  re : occidental battleground meter 98 - 1485 o...\n",
              " 2748      1     growth is good\\r\\nclick here to be removed\\r\\n\n",
              " \n",
              " [2749 rows x 2 columns])"
            ]
          },
          "metadata": {},
          "execution_count": 341
        }
      ]
    },
    {
      "cell_type": "code",
      "source": [
        "# Download latest version\n",
        "path = kagglehub.dataset_download(\"purusinghvi/email-spam-classification-dataset\")\n",
        "\n",
        "files = os.listdir(path)\n",
        "print(\"Files in dataset directory:\", files)\n",
        "\n",
        "csv_file_path = os.path.join(path, \"combined_data.csv\")\n",
        "df = pd.read_csv(csv_file_path)\n",
        "\n",
        "print(df.head())"
      ],
      "metadata": {
        "colab": {
          "base_uri": "https://localhost:8080/"
        },
        "id": "sr3ZQ8_j9U3D",
        "outputId": "b7b1d1dd-56a7-4859-964a-a9300d861a85"
      },
      "execution_count": 342,
      "outputs": [
        {
          "output_type": "stream",
          "name": "stdout",
          "text": [
            "Files in dataset directory: ['combined_data.csv']\n",
            "   label                                               text\n",
            "0      1  ounce feather bowl hummingbird opec moment ala...\n",
            "1      1  wulvob get your medircations online qnb ikud v...\n",
            "2      0   computer connection from cnn com wednesday es...\n",
            "3      1  university degree obtain a prosperous future m...\n",
            "4      0  thanks for all your answers guys i know i shou...\n"
          ]
        }
      ]
    },
    {
      "cell_type": "code",
      "source": [
        "df = prepare_dataset(df, \"label\", \"text\")"
      ],
      "metadata": {
        "colab": {
          "base_uri": "https://localhost:8080/"
        },
        "id": "MPR3DLpyhucN",
        "outputId": "8a11209b-8d35-4664-c4eb-373a959bb354"
      },
      "execution_count": 343,
      "outputs": [
        {
          "output_type": "stream",
          "name": "stdout",
          "text": [
            "   label                                               text\n",
            "0      1  ounce feather bowl hummingbird opec moment ala...\n",
            "1      1  wulvob get your medircations online qnb ikud v...\n",
            "2      0   computer connection from cnn com wednesday es...\n",
            "3      1  university degree obtain a prosperous future m...\n",
            "4      0  thanks for all your answers guys i know i shou...\n",
            "label    0\n",
            "text     0\n",
            "dtype: int64\n",
            "[1 0]\n",
            "(83448, 2)\n"
          ]
        }
      ]
    },
    {
      "cell_type": "code",
      "source": [
        "concat_with(df)"
      ],
      "metadata": {
        "colab": {
          "base_uri": "https://localhost:8080/"
        },
        "id": "P-0ZE7uSh1gG",
        "outputId": "45251e60-a151-449e-9b1e-4aeba220dce4"
      },
      "execution_count": 344,
      "outputs": [
        {
          "output_type": "stream",
          "name": "stdout",
          "text": [
            "Train shape: (77743, 2)\n",
            "Test shape: (19439, 2)\n"
          ]
        },
        {
          "output_type": "execute_result",
          "data": {
            "text/plain": [
              "(       label                                               text\n",
              " 0          0  Got fujitsu, ibm, hp, toshiba... Got a lot of ...\n",
              " 1          0  So how are you really. What are you up to. How...\n",
              " 2          0                    I see a cup of coffee animation\n",
              " 3          0      This pain couldn't have come at a worse time.\n",
              " 4          0                             Also where's the piece\n",
              " ...      ...                                                ...\n",
              " 77738      0  anita . from our conversation today with daren...\n",
              " 77739      0  business highlights\\nenron freight markets\\nen...\n",
              " 77740      0  i am rebuilding r in a mandriva linux environm...\n",
              " 77741      0  alternative medicine database over escapenumbe...\n",
              " 77742      0   escapenumberfxml version escapenumberd escape...\n",
              " \n",
              " [77743 rows x 2 columns],\n",
              "        label                                               text\n",
              " 0          0  Also sir, i sent you an email about how to log...\n",
              " 1          0                   Are you free now?can i call now?\n",
              " 2          0  My supervisor find 4 me one lor i thk his stud...\n",
              " 3          0  She.s good. She was wondering if you wont say ...\n",
              " 4          1  Sorry I missed your call let's talk when you h...\n",
              " ...      ...                                                ...\n",
              " 19434      1  ci - ialis softabs is better than pfizer viiag...\n",
              " 19435      1  atasket autumn yorkbe clown begin beguine mir ...\n",
              " 19436      1  curve energy loses paper glasses goes digital ...\n",
              " 19437      0  alert name bush wife of evangelist billy graha...\n",
              " 19438      1  jovilabe hydromorphous amygdaloid offlet diver...\n",
              " \n",
              " [19439 rows x 2 columns])"
            ]
          },
          "metadata": {},
          "execution_count": 344
        }
      ]
    },
    {
      "cell_type": "code",
      "source": [
        "# Download latest version\n",
        "path = kagglehub.dataset_download(\"team-ai/spam-text-message-classification\")\n",
        "\n",
        "files = os.listdir(path)\n",
        "print(\"Files in dataset directory:\", files)\n",
        "\n",
        "csv_file_path = os.path.join(path, \"SPAM text message 20170820 - Data.csv\")\n",
        "df = pd.read_csv(csv_file_path)\n",
        "\n",
        "print(df.head())"
      ],
      "metadata": {
        "colab": {
          "base_uri": "https://localhost:8080/"
        },
        "id": "VNVkHkg-9cUa",
        "outputId": "48ff167a-eee7-4715-b48e-205bfe4d6822"
      },
      "execution_count": 345,
      "outputs": [
        {
          "output_type": "stream",
          "name": "stdout",
          "text": [
            "Files in dataset directory: ['SPAM text message 20170820 - Data.csv']\n",
            "  Category                                            Message\n",
            "0      ham  Go until jurong point, crazy.. Available only ...\n",
            "1      ham                      Ok lar... Joking wif u oni...\n",
            "2     spam  Free entry in 2 a wkly comp to win FA Cup fina...\n",
            "3      ham  U dun say so early hor... U c already then say...\n",
            "4      ham  Nah I don't think he goes to usf, he lives aro...\n"
          ]
        }
      ]
    },
    {
      "cell_type": "code",
      "source": [
        "df = prepare_dataset(df, \"Category\", \"Message\")"
      ],
      "metadata": {
        "colab": {
          "base_uri": "https://localhost:8080/"
        },
        "id": "mMLeo1C9iUFR",
        "outputId": "fb3b341c-1a52-4e4b-e58e-717f56531827"
      },
      "execution_count": 346,
      "outputs": [
        {
          "output_type": "stream",
          "name": "stdout",
          "text": [
            "   label                                               text\n",
            "0      0  Go until jurong point, crazy.. Available only ...\n",
            "1      0                      Ok lar... Joking wif u oni...\n",
            "2      1  Free entry in 2 a wkly comp to win FA Cup fina...\n",
            "3      0  U dun say so early hor... U c already then say...\n",
            "4      0  Nah I don't think he goes to usf, he lives aro...\n",
            "label    0\n",
            "text     0\n",
            "dtype: int64\n",
            "[0 1]\n",
            "(5157, 2)\n"
          ]
        }
      ]
    },
    {
      "cell_type": "code",
      "source": [
        "concat_with(df)"
      ],
      "metadata": {
        "colab": {
          "base_uri": "https://localhost:8080/"
        },
        "id": "FlBqQ3SkiZon",
        "outputId": "9cfcae22-4edc-475d-be59-2f22f0fee6c0"
      },
      "execution_count": 347,
      "outputs": [
        {
          "output_type": "execute_result",
          "data": {
            "text/plain": [
              "(       label                                               text\n",
              " 0          0  Got fujitsu, ibm, hp, toshiba... Got a lot of ...\n",
              " 1          0  So how are you really. What are you up to. How...\n",
              " 2          0                    I see a cup of coffee animation\n",
              " 3          0      This pain couldn't have come at a worse time.\n",
              " 4          0                             Also where's the piece\n",
              " ...      ...                                                ...\n",
              " 77738      0  anita . from our conversation today with daren...\n",
              " 77739      0  business highlights\\nenron freight markets\\nen...\n",
              " 77740      0  i am rebuilding r in a mandriva linux environm...\n",
              " 77741      0  alternative medicine database over escapenumbe...\n",
              " 77742      0   escapenumberfxml version escapenumberd escape...\n",
              " \n",
              " [77743 rows x 2 columns],\n",
              "        label                                               text\n",
              " 0          0  Also sir, i sent you an email about how to log...\n",
              " 1          0                   Are you free now?can i call now?\n",
              " 2          0  My supervisor find 4 me one lor i thk his stud...\n",
              " 3          0  She.s good. She was wondering if you wont say ...\n",
              " 4          1  Sorry I missed your call let's talk when you h...\n",
              " ...      ...                                                ...\n",
              " 19434      1  ci - ialis softabs is better than pfizer viiag...\n",
              " 19435      1  atasket autumn yorkbe clown begin beguine mir ...\n",
              " 19436      1  curve energy loses paper glasses goes digital ...\n",
              " 19437      0  alert name bush wife of evangelist billy graha...\n",
              " 19438      1  jovilabe hydromorphous amygdaloid offlet diver...\n",
              " \n",
              " [19439 rows x 2 columns])"
            ]
          },
          "metadata": {},
          "execution_count": 347
        }
      ]
    },
    {
      "cell_type": "code",
      "source": [
        "# Download latest version\n",
        "path = kagglehub.dataset_download(\"jackksoncsie/spam-email-dataset\")\n",
        "\n",
        "files = os.listdir(path)\n",
        "print(\"Files in dataset directory:\", files)\n",
        "\n",
        "csv_file_path = os.path.join(path, \"emails.csv\")\n",
        "df = pd.read_csv(csv_file_path)\n",
        "\n",
        "print(df.head())"
      ],
      "metadata": {
        "colab": {
          "base_uri": "https://localhost:8080/"
        },
        "id": "_9PXdK379n8w",
        "outputId": "caef703b-f377-4a83-809e-2467f36965f0"
      },
      "execution_count": 348,
      "outputs": [
        {
          "output_type": "stream",
          "name": "stdout",
          "text": [
            "Files in dataset directory: ['emails.csv']\n",
            "                                                text  spam\n",
            "0  Subject: naturally irresistible your corporate...     1\n",
            "1  Subject: the stock trading gunslinger  fanny i...     1\n",
            "2  Subject: unbelievable new homes made easy  im ...     1\n",
            "3  Subject: 4 color printing special  request add...     1\n",
            "4  Subject: do not have money , get software cds ...     1\n"
          ]
        }
      ]
    },
    {
      "cell_type": "code",
      "source": [
        "df = prepare_dataset(df, \"spam\", \"text\")"
      ],
      "metadata": {
        "colab": {
          "base_uri": "https://localhost:8080/"
        },
        "id": "ysDOkoKhjfs-",
        "outputId": "2c0e3912-cce2-487b-a807-639af4ae3e59"
      },
      "execution_count": 349,
      "outputs": [
        {
          "output_type": "stream",
          "name": "stdout",
          "text": [
            "   label                                               text\n",
            "0      1  Subject: naturally irresistible your corporate...\n",
            "1      1  Subject: the stock trading gunslinger  fanny i...\n",
            "2      1  Subject: unbelievable new homes made easy  im ...\n",
            "3      1  Subject: 4 color printing special  request add...\n",
            "4      1  Subject: do not have money , get software cds ...\n",
            "label    0\n",
            "text     0\n",
            "dtype: int64\n",
            "[1 0]\n",
            "(5695, 2)\n"
          ]
        }
      ]
    },
    {
      "cell_type": "code",
      "source": [
        "df['text'] = df['text'].str.replace(r'Subject:\\s*', '', regex=True)"
      ],
      "metadata": {
        "id": "TTKCbCujOnPH"
      },
      "execution_count": 350,
      "outputs": []
    },
    {
      "cell_type": "code",
      "source": [
        "concat_with(df)"
      ],
      "metadata": {
        "colab": {
          "base_uri": "https://localhost:8080/"
        },
        "id": "KFuB0VaJjmZS",
        "outputId": "ba827621-98d8-4df3-d718-9a33cde0e395"
      },
      "execution_count": 351,
      "outputs": [
        {
          "output_type": "stream",
          "name": "stdout",
          "text": [
            "Train shape: (82299, 2)\n",
            "Test shape: (20578, 2)\n"
          ]
        },
        {
          "output_type": "execute_result",
          "data": {
            "text/plain": [
              "(       label                                               text\n",
              " 0          0  Got fujitsu, ibm, hp, toshiba... Got a lot of ...\n",
              " 1          0  So how are you really. What are you up to. How...\n",
              " 2          0                    I see a cup of coffee animation\n",
              " 3          0      This pain couldn't have come at a worse time.\n",
              " 4          0                             Also where's the piece\n",
              " ...      ...                                                ...\n",
              " 82294      0  thomas knudsen  hi vince  i met with thomas th...\n",
              " 82295      0  sevil yamin  vince ,  do you want me to do thi...\n",
              " 82296      0  re : a request  zimin ,  i also enjoyed our ta...\n",
              " 82297      0  6 / 30 aga forecast at 66  mike ,  my number f...\n",
              " 82298      1  perfect visual solution for your business now ...\n",
              " \n",
              " [82299 rows x 2 columns],\n",
              "        label                                               text\n",
              " 0          0  Also sir, i sent you an email about how to log...\n",
              " 1          0                   Are you free now?can i call now?\n",
              " 2          0  My supervisor find 4 me one lor i thk his stud...\n",
              " 3          0  She.s good. She was wondering if you wont say ...\n",
              " 4          1  Sorry I missed your call let's talk when you h...\n",
              " ...      ...                                                ...\n",
              " 20573      0  enroncredit . com report for 12 . 10  fyi `  -...\n",
              " 20574      1  save your money by getting an oem software !  ...\n",
              " 20575      0  re : 12 / 17 churn - - eb 29 to ebl 9  job don...\n",
              " 20576      1  you may want to look into funding from grants ...\n",
              " 20577      1  you want to submit your website to search engi...\n",
              " \n",
              " [20578 rows x 2 columns])"
            ]
          },
          "metadata": {},
          "execution_count": 351
        }
      ]
    },
    {
      "cell_type": "code",
      "source": [
        "# Download latest version\n",
        "path = kagglehub.dataset_download(\"nitishabharathi/email-spam-dataset\")\n",
        "\n",
        "files = os.listdir(path)\n",
        "print(\"Files in dataset directory:\", files)\n",
        "\n",
        "csv_file_path = os.path.join(path, \"completeSpamAssassin.csv\")\n",
        "df = pd.read_csv(csv_file_path)\n",
        "\n",
        "print(df.head())"
      ],
      "metadata": {
        "colab": {
          "base_uri": "https://localhost:8080/"
        },
        "id": "nAcD4j1q9rIu",
        "outputId": "008d17e6-7c6a-4b50-92d5-770f020a21aa"
      },
      "execution_count": 352,
      "outputs": [
        {
          "output_type": "stream",
          "name": "stdout",
          "text": [
            "Files in dataset directory: ['enronSpamSubset.csv', 'lingSpam.csv', 'completeSpamAssassin.csv']\n",
            "   Unnamed: 0                                               Body  Label\n",
            "0           0  \\nSave up to 70% on Life Insurance.\\nWhy Spend...      1\n",
            "1           1  1) Fight The Risk of Cancer!\\nhttp://www.adcli...      1\n",
            "2           2  1) Fight The Risk of Cancer!\\nhttp://www.adcli...      1\n",
            "3           3  ##############################################...      1\n",
            "4           4  I thought you might like these:\\n1) Slim Down ...      1\n"
          ]
        }
      ]
    },
    {
      "cell_type": "code",
      "source": [
        "df = prepare_dataset(df, \"Label\", \"Body\")"
      ],
      "metadata": {
        "colab": {
          "base_uri": "https://localhost:8080/"
        },
        "id": "bGe4OPKOjzrI",
        "outputId": "fcb46fff-6d64-4ca9-cdc3-aba269450e4f"
      },
      "execution_count": 353,
      "outputs": [
        {
          "output_type": "stream",
          "name": "stdout",
          "text": [
            "   label                                               text\n",
            "0      1  \\nSave up to 70% on Life Insurance.\\nWhy Spend...\n",
            "1      1  1) Fight The Risk of Cancer!\\nhttp://www.adcli...\n",
            "2      1  1) Fight The Risk of Cancer!\\nhttp://www.adcli...\n",
            "3      1  ##############################################...\n",
            "4      1  I thought you might like these:\\n1) Slim Down ...\n",
            "label    0\n",
            "text     0\n",
            "dtype: int64\n",
            "[1 0]\n",
            "(6045, 2)\n"
          ]
        }
      ]
    },
    {
      "cell_type": "code",
      "source": [
        "concat_with(df)"
      ],
      "metadata": {
        "colab": {
          "base_uri": "https://localhost:8080/"
        },
        "id": "Zmkh0ngWj5RS",
        "outputId": "788ecc08-f104-4187-ade5-abb4b249b8a7"
      },
      "execution_count": 354,
      "outputs": [
        {
          "output_type": "stream",
          "name": "stdout",
          "text": [
            "Train shape: (86533, 2)\n",
            "Test shape: (21637, 2)\n"
          ]
        },
        {
          "output_type": "execute_result",
          "data": {
            "text/plain": [
              "(       label                                               text\n",
              " 0          0  Got fujitsu, ibm, hp, toshiba... Got a lot of ...\n",
              " 1          0  So how are you really. What are you up to. How...\n",
              " 2          0                    I see a cup of coffee animation\n",
              " 3          0      This pain couldn't have come at a worse time.\n",
              " 4          0                             Also where's the piece\n",
              " ...      ...                                                ...\n",
              " 86528      0  \\nForwarded-by: Chris Wedgwood \\nFrom: Bert01....\n",
              " 86529      0  On Wed, Aug 21, 2002 at 02:52:11PM +0800, al@m...\n",
              " 86530      0  \\nZDNet AnchorDesk NewsletterTHURSDAY, JULY 18...\n",
              " 86531      0  SEARCHSECURITY | Security and Industry News\\nJ...\n",
              " 86532      1  \\nBODY {font-family=\"Arial\"}\\nTT {font-family=...\n",
              " \n",
              " [86533 rows x 2 columns],\n",
              "        label                                               text\n",
              " 0          0  Also sir, i sent you an email about how to log...\n",
              " 1          0                   Are you free now?can i call now?\n",
              " 2          0  My supervisor find 4 me one lor i thk his stud...\n",
              " 3          0  She.s good. She was wondering if you wont say ...\n",
              " 4          1  Sorry I missed your call let's talk when you h...\n",
              " ...      ...                                                ...\n",
              " 21632      1  Dear Sirs,\\nWe know your esteemed company in b...\n",
              " 21633      0  use Perl Daily Headline MailerDamian Conway Pu...\n",
              " 21634      0  \\nPolitical mail (the snail kind) doesn't both...\n",
              " 21635      0  So, a new family moved in down the street, wit...\n",
              " 21636      1  \\nUntitled Document\\n Â Â Â Â Â WE CAN HELP YO...\n",
              " \n",
              " [21637 rows x 2 columns])"
            ]
          },
          "metadata": {},
          "execution_count": 354
        }
      ]
    },
    {
      "cell_type": "code",
      "source": [
        "# Download latest version\n",
        "path = kagglehub.dataset_download(\"nitishabharathi/email-spam-dataset\")\n",
        "\n",
        "files = os.listdir(path)\n",
        "print(\"Files in dataset directory:\", files)\n",
        "\n",
        "csv_file_path = os.path.join(path, \"lingSpam.csv\")\n",
        "df = pd.read_csv(csv_file_path)\n",
        "\n",
        "print(df.head())"
      ],
      "metadata": {
        "colab": {
          "base_uri": "https://localhost:8080/"
        },
        "id": "aFA-ZKbukHcZ",
        "outputId": "cea4b5fb-1f1a-466f-c696-269737c19352"
      },
      "execution_count": 355,
      "outputs": [
        {
          "output_type": "stream",
          "name": "stdout",
          "text": [
            "Files in dataset directory: ['enronSpamSubset.csv', 'lingSpam.csv', 'completeSpamAssassin.csv']\n",
            "   Unnamed: 0                                               Body  Label\n",
            "0           0  Subject: great part-time or summer job !\\n \\n ...      1\n",
            "1           1  Subject: auto insurance rates too high ?\\n \\n ...      1\n",
            "2           2  Subject: do want the best and economical hunti...      1\n",
            "3           3  Subject: email 57 million people for $ 99\\n \\n...      1\n",
            "4           4  Subject: do n't miss these !\\n \\n attention ! ...      1\n"
          ]
        }
      ]
    },
    {
      "cell_type": "code",
      "source": [
        "df = prepare_dataset(df, \"Label\", \"Body\")"
      ],
      "metadata": {
        "colab": {
          "base_uri": "https://localhost:8080/"
        },
        "id": "_1JarmmjkUmM",
        "outputId": "e63dd8ee-4bda-4f3c-a33b-8800932b6cad"
      },
      "execution_count": 356,
      "outputs": [
        {
          "output_type": "stream",
          "name": "stdout",
          "text": [
            "   label                                               text\n",
            "0      1  Subject: great part-time or summer job !\\n \\n ...\n",
            "1      1  Subject: auto insurance rates too high ?\\n \\n ...\n",
            "2      1  Subject: do want the best and economical hunti...\n",
            "3      1  Subject: email 57 million people for $ 99\\n \\n...\n",
            "4      1  Subject: do n't miss these !\\n \\n attention ! ...\n",
            "label    0\n",
            "text     0\n",
            "dtype: int64\n",
            "[1 0]\n",
            "(2605, 2)\n"
          ]
        }
      ]
    },
    {
      "cell_type": "code",
      "source": [
        "df['text'] = df['text'].str.replace(r'Subject:\\s*', '', regex=True)"
      ],
      "metadata": {
        "id": "db3QfOzkO1hU"
      },
      "execution_count": 357,
      "outputs": []
    },
    {
      "cell_type": "code",
      "source": [
        "concat_with(df)"
      ],
      "metadata": {
        "colab": {
          "base_uri": "https://localhost:8080/"
        },
        "id": "pcwuIZL7kXGY",
        "outputId": "21cf967c-e860-4b74-b74a-b8c86406dc2c"
      },
      "execution_count": 358,
      "outputs": [
        {
          "output_type": "stream",
          "name": "stdout",
          "text": [
            "Train shape: (88605, 2)\n",
            "Test shape: (22156, 2)\n"
          ]
        },
        {
          "output_type": "execute_result",
          "data": {
            "text/plain": [
              "(       label                                               text\n",
              " 0          0  Got fujitsu, ibm, hp, toshiba... Got a lot of ...\n",
              " 1          0  So how are you really. What are you up to. How...\n",
              " 2          0                    I see a cup of coffee animation\n",
              " 3          0      This pain couldn't have come at a worse time.\n",
              " 4          0                             Also where's the piece\n",
              " ...      ...                                                ...\n",
              " 88600      0  jireem @ utxvms . cc . utexas . edu\\n \\n does ...\n",
              " 88601      0  references on non-human language\\n \\n content ...\n",
              " 88602      0  call for papers : linguistics session of the m...\n",
              " 88603      0  inquiry re : slang and rock music\\n \\n i am wo...\n",
              " 88604      0  are most people bilingual ? - - summary\\n \\n a...\n",
              " \n",
              " [88605 rows x 2 columns],\n",
              "        label                                               text\n",
              " 0          0  Also sir, i sent you an email about how to log...\n",
              " 1          0                   Are you free now?can i call now?\n",
              " 2          0  My supervisor find 4 me one lor i thk his stud...\n",
              " 3          0  She.s good. She was wondering if you wont say ...\n",
              " 4          1  Sorry I missed your call let's talk when you h...\n",
              " ...      ...                                                ...\n",
              " 22151      0  sum : quantification\\n \\n about four weeks ago...\n",
              " 22152      0  re : comparative linguistics\\n \\n ) from : amr...\n",
              " 22153      1  make unlimited income !\\n \\n make unlimited in...\n",
              " 22154      0  chechen\\n \\n who are the chechen ? johanna nic...\n",
              " 22155      0  re : 6 . 249 dick armey 's slip and correction...\n",
              " \n",
              " [22156 rows x 2 columns])"
            ]
          },
          "metadata": {},
          "execution_count": 358
        }
      ]
    },
    {
      "cell_type": "code",
      "source": [
        "# Download latest version\n",
        "path = kagglehub.dataset_download(\"nitishabharathi/email-spam-dataset\")\n",
        "\n",
        "files = os.listdir(path)\n",
        "print(\"Files in dataset directory:\", files)\n",
        "\n",
        "csv_file_path = os.path.join(path, \"enronSpamSubset.csv\")\n",
        "df = pd.read_csv(csv_file_path)\n",
        "\n",
        "print(df.head())"
      ],
      "metadata": {
        "colab": {
          "base_uri": "https://localhost:8080/"
        },
        "id": "SCANDhTskLWz",
        "outputId": "05b75ca8-2564-47c5-8b5f-bc2698867791"
      },
      "execution_count": 359,
      "outputs": [
        {
          "output_type": "stream",
          "name": "stdout",
          "text": [
            "Files in dataset directory: ['enronSpamSubset.csv', 'lingSpam.csv', 'completeSpamAssassin.csv']\n",
            "   Unnamed: 0.1  Unnamed: 0  \\\n",
            "0          2469        2469   \n",
            "1          5063        5063   \n",
            "2         12564       12564   \n",
            "3          2796        2796   \n",
            "4          1468        1468   \n",
            "\n",
            "                                                Body  Label  \n",
            "0  Subject: stock promo mover : cwtd\\n * * * urge...      1  \n",
            "1  Subject: are you listed in major search engine...      1  \n",
            "2  Subject: important information thu , 30 jun 20...      1  \n",
            "3  Subject: = ? utf - 8 ? q ? bask your life with...      1  \n",
            "4  Subject: \" bidstogo \" is places to go , things...      1  \n"
          ]
        }
      ]
    },
    {
      "cell_type": "code",
      "source": [
        "df = prepare_dataset(df, \"Label\", \"Body\")"
      ],
      "metadata": {
        "colab": {
          "base_uri": "https://localhost:8080/"
        },
        "id": "U3CsL8ePkbjI",
        "outputId": "60965017-d1e9-47e0-b15e-f2b101fdb775"
      },
      "execution_count": 360,
      "outputs": [
        {
          "output_type": "stream",
          "name": "stdout",
          "text": [
            "   label                                               text\n",
            "0      1  Subject: stock promo mover : cwtd\\n * * * urge...\n",
            "1      1  Subject: are you listed in major search engine...\n",
            "2      1  Subject: important information thu , 30 jun 20...\n",
            "3      1  Subject: = ? utf - 8 ? q ? bask your life with...\n",
            "4      1  Subject: \" bidstogo \" is places to go , things...\n",
            "label    0\n",
            "text     0\n",
            "dtype: int64\n",
            "[1 0]\n",
            "(10000, 2)\n"
          ]
        }
      ]
    },
    {
      "cell_type": "code",
      "source": [
        "df['text'] = df['text'].str.replace(r'Subject:\\s*', '', regex=True)\n",
        "print(df.head())"
      ],
      "metadata": {
        "colab": {
          "base_uri": "https://localhost:8080/"
        },
        "id": "CoiKGvBdkqkl",
        "outputId": "22e94883-7c94-480e-cf20-b5dd95a8a216"
      },
      "execution_count": 361,
      "outputs": [
        {
          "output_type": "stream",
          "name": "stdout",
          "text": [
            "   label                                               text\n",
            "0      1  stock promo mover : cwtd\\n * * * urgent invest...\n",
            "1      1  are you listed in major search engines ?\\n sub...\n",
            "2      1  important information thu , 30 jun 2005 .\\n su...\n",
            "3      1  = ? utf - 8 ? q ? bask your life with ? =\\n = ...\n",
            "4      1  \" bidstogo \" is places to go , things to do\\n ...\n"
          ]
        }
      ]
    },
    {
      "cell_type": "code",
      "source": [
        "concat_with(df)"
      ],
      "metadata": {
        "colab": {
          "base_uri": "https://localhost:8080/"
        },
        "id": "MGcKWpZCkvnd",
        "outputId": "f8dd8377-4061-414f-82ca-57af28ffaa25"
      },
      "execution_count": 362,
      "outputs": [
        {
          "output_type": "stream",
          "name": "stdout",
          "text": [
            "Train shape: (96349, 2)\n",
            "Test shape: (24093, 2)\n"
          ]
        },
        {
          "output_type": "execute_result",
          "data": {
            "text/plain": [
              "(       label                                               text\n",
              " 0          0  Got fujitsu, ibm, hp, toshiba... Got a lot of ...\n",
              " 1          0  So how are you really. What are you up to. How...\n",
              " 2          0                    I see a cup of coffee animation\n",
              " 3          0      This pain couldn't have come at a worse time.\n",
              " 4          0                             Also where's the piece\n",
              " ...      ...                                                ...\n",
              " 96344      0  re : enron / stanford program\\n nick ,\\n i spo...\n",
              " 96345      0  re : tenaska iv 10 / 00\\n i don ' t see anythi...\n",
              " 96346      0  fw : attorney client privledge - important ! n...\n",
              " 96347      1  fw : neevr seen prono flash animation\\n buenos...\n",
              " 96348      0  january production estimate\\n daren / carlos :...\n",
              " \n",
              " [96349 rows x 2 columns],\n",
              "        label                                               text\n",
              " 0          0  Also sir, i sent you an email about how to log...\n",
              " 1          0                   Are you free now?can i call now?\n",
              " 2          0  My supervisor find 4 me one lor i thk his stud...\n",
              " 3          0  She.s good. She was wondering if you wont say ...\n",
              " 4          1  Sorry I missed your call let's talk when you h...\n",
              " ...      ...                                                ...\n",
              " 24088      1  all graphics software available , cheap oem ve...\n",
              " 24089      1  male muscle boosting system\\n i ' ve been usin...\n",
              " 24090      0  japanese power market\\n another article i thou...\n",
              " 24091      1  calling all small stock players\\n ames is fasc...\n",
              " 24092      0  mg memo\\n i am sending you an updated version ...\n",
              " \n",
              " [24093 rows x 2 columns])"
            ]
          },
          "metadata": {},
          "execution_count": 362
        }
      ]
    },
    {
      "cell_type": "code",
      "source": [
        "# Download latest version\n",
        "path = kagglehub.dataset_download(\"abdmental01/email-spam-dedection\")\n",
        "\n",
        "files = os.listdir(path)\n",
        "print(\"Files in dataset directory:\", files)\n",
        "\n",
        "csv_file_path = os.path.join(path, \"mail_data.csv\")\n",
        "df = pd.read_csv(csv_file_path)\n",
        "\n",
        "print(df.head())"
      ],
      "metadata": {
        "colab": {
          "base_uri": "https://localhost:8080/"
        },
        "id": "XzEJWDWV9ziH",
        "outputId": "4dfb6ef1-05c7-4b76-ed47-ca98f4fd214a"
      },
      "execution_count": 363,
      "outputs": [
        {
          "output_type": "stream",
          "name": "stdout",
          "text": [
            "Files in dataset directory: ['mail_data.csv']\n",
            "  Category                                            Message\n",
            "0      ham  Go until jurong point, crazy.. Available only ...\n",
            "1      ham                      Ok lar... Joking wif u oni...\n",
            "2     spam  Free entry in 2 a wkly comp to win FA Cup fina...\n",
            "3      ham  U dun say so early hor... U c already then say...\n",
            "4      ham  Nah I don't think he goes to usf, he lives aro...\n"
          ]
        }
      ]
    },
    {
      "cell_type": "code",
      "source": [
        "df = prepare_dataset(df, \"Category\", \"Message\")"
      ],
      "metadata": {
        "colab": {
          "base_uri": "https://localhost:8080/"
        },
        "id": "Xw-C69g6k5JU",
        "outputId": "ba481f58-2a31-4691-bf7f-d441cc3ae9a2"
      },
      "execution_count": 364,
      "outputs": [
        {
          "output_type": "stream",
          "name": "stdout",
          "text": [
            "   label                                               text\n",
            "0      0  Go until jurong point, crazy.. Available only ...\n",
            "1      0                      Ok lar... Joking wif u oni...\n",
            "2      1  Free entry in 2 a wkly comp to win FA Cup fina...\n",
            "3      0  U dun say so early hor... U c already then say...\n",
            "4      0  Nah I don't think he goes to usf, he lives aro...\n",
            "label    0\n",
            "text     0\n",
            "dtype: int64\n",
            "[0 1]\n",
            "(5157, 2)\n"
          ]
        }
      ]
    },
    {
      "cell_type": "code",
      "source": [
        "concat_with(df)"
      ],
      "metadata": {
        "colab": {
          "base_uri": "https://localhost:8080/"
        },
        "id": "0zIRBu2Mk-uK",
        "outputId": "7973e636-bc2e-4a5b-df1f-eb5a240e6f44"
      },
      "execution_count": 365,
      "outputs": [
        {
          "output_type": "execute_result",
          "data": {
            "text/plain": [
              "(       label                                               text\n",
              " 0          0  Got fujitsu, ibm, hp, toshiba... Got a lot of ...\n",
              " 1          0  So how are you really. What are you up to. How...\n",
              " 2          0                    I see a cup of coffee animation\n",
              " 3          0      This pain couldn't have come at a worse time.\n",
              " 4          0                             Also where's the piece\n",
              " ...      ...                                                ...\n",
              " 96344      0  re : enron / stanford program\\n nick ,\\n i spo...\n",
              " 96345      0  re : tenaska iv 10 / 00\\n i don ' t see anythi...\n",
              " 96346      0  fw : attorney client privledge - important ! n...\n",
              " 96347      1  fw : neevr seen prono flash animation\\n buenos...\n",
              " 96348      0  january production estimate\\n daren / carlos :...\n",
              " \n",
              " [96349 rows x 2 columns],\n",
              "        label                                               text\n",
              " 0          0  Also sir, i sent you an email about how to log...\n",
              " 1          0                   Are you free now?can i call now?\n",
              " 2          0  My supervisor find 4 me one lor i thk his stud...\n",
              " 3          0  She.s good. She was wondering if you wont say ...\n",
              " 4          1  Sorry I missed your call let's talk when you h...\n",
              " ...      ...                                                ...\n",
              " 24088      1  all graphics software available , cheap oem ve...\n",
              " 24089      1  male muscle boosting system\\n i ' ve been usin...\n",
              " 24090      0  japanese power market\\n another article i thou...\n",
              " 24091      1  calling all small stock players\\n ames is fasc...\n",
              " 24092      0  mg memo\\n i am sending you an updated version ...\n",
              " \n",
              " [24093 rows x 2 columns])"
            ]
          },
          "metadata": {},
          "execution_count": 365
        }
      ]
    },
    {
      "cell_type": "code",
      "source": [
        "# Download latest version\n",
        "path = kagglehub.dataset_download(\"noeyislearning/spam-emails\")\n",
        "\n",
        "files = os.listdir(path)\n",
        "print(\"Files in dataset directory:\", files)\n",
        "\n",
        "csv_file_path = os.path.join(path, \"emails.csv\")\n",
        "df = pd.read_csv(csv_file_path)\n",
        "\n",
        "print(df.head())"
      ],
      "metadata": {
        "colab": {
          "base_uri": "https://localhost:8080/"
        },
        "id": "KG7We7Wa-DNw",
        "outputId": "d2bbb1bf-a364-4610-9273-74b9de6b8167"
      },
      "execution_count": 366,
      "outputs": [
        {
          "output_type": "stream",
          "name": "stdout",
          "text": [
            "Files in dataset directory: ['emails.csv']\n",
            "                                                text  spam\n",
            "0  Subject: naturally irresistible your corporate...     1\n",
            "1  Subject: the stock trading gunslinger  fanny i...     1\n",
            "2  Subject: unbelievable new homes made easy  im ...     1\n",
            "3  Subject: 4 color printing special  request add...     1\n",
            "4  Subject: do not have money , get software cds ...     1\n"
          ]
        }
      ]
    },
    {
      "cell_type": "code",
      "source": [
        "df = prepare_dataset(df, \"spam\", \"text\")"
      ],
      "metadata": {
        "colab": {
          "base_uri": "https://localhost:8080/"
        },
        "id": "_IySLX8KlUuR",
        "outputId": "4d19e2b0-2499-446b-89e1-1feda9cc6264"
      },
      "execution_count": 367,
      "outputs": [
        {
          "output_type": "stream",
          "name": "stdout",
          "text": [
            "   label                                               text\n",
            "0      1  Subject: naturally irresistible your corporate...\n",
            "1      1  Subject: the stock trading gunslinger  fanny i...\n",
            "2      1  Subject: unbelievable new homes made easy  im ...\n",
            "3      1  Subject: 4 color printing special  request add...\n",
            "4      1  Subject: do not have money , get software cds ...\n",
            "label    0\n",
            "text     0\n",
            "dtype: int64\n",
            "[1 0]\n",
            "(5695, 2)\n"
          ]
        }
      ]
    },
    {
      "cell_type": "code",
      "source": [
        "df['text'] = df['text'].str.replace(r'Subject:\\s*', '', regex=True)"
      ],
      "metadata": {
        "id": "IrGzRZ4NPJFE"
      },
      "execution_count": 368,
      "outputs": []
    },
    {
      "cell_type": "code",
      "source": [
        "concat_with(df)"
      ],
      "metadata": {
        "colab": {
          "base_uri": "https://localhost:8080/"
        },
        "id": "NOJvLnmUlaWu",
        "outputId": "c301eab7-aab6-4650-96e5-201e0877eeea"
      },
      "execution_count": 369,
      "outputs": [
        {
          "output_type": "execute_result",
          "data": {
            "text/plain": [
              "(       label                                               text\n",
              " 0          0  Got fujitsu, ibm, hp, toshiba... Got a lot of ...\n",
              " 1          0  So how are you really. What are you up to. How...\n",
              " 2          0                    I see a cup of coffee animation\n",
              " 3          0      This pain couldn't have come at a worse time.\n",
              " 4          0                             Also where's the piece\n",
              " ...      ...                                                ...\n",
              " 96344      0  re : enron / stanford program\\n nick ,\\n i spo...\n",
              " 96345      0  re : tenaska iv 10 / 00\\n i don ' t see anythi...\n",
              " 96346      0  fw : attorney client privledge - important ! n...\n",
              " 96347      1  fw : neevr seen prono flash animation\\n buenos...\n",
              " 96348      0  january production estimate\\n daren / carlos :...\n",
              " \n",
              " [96349 rows x 2 columns],\n",
              "        label                                               text\n",
              " 0          0  Also sir, i sent you an email about how to log...\n",
              " 1          0                   Are you free now?can i call now?\n",
              " 2          0  My supervisor find 4 me one lor i thk his stud...\n",
              " 3          0  She.s good. She was wondering if you wont say ...\n",
              " 4          1  Sorry I missed your call let's talk when you h...\n",
              " ...      ...                                                ...\n",
              " 24088      1  all graphics software available , cheap oem ve...\n",
              " 24089      1  male muscle boosting system\\n i ' ve been usin...\n",
              " 24090      0  japanese power market\\n another article i thou...\n",
              " 24091      1  calling all small stock players\\n ames is fasc...\n",
              " 24092      0  mg memo\\n i am sending you an updated version ...\n",
              " \n",
              " [24093 rows x 2 columns])"
            ]
          },
          "metadata": {},
          "execution_count": 369
        }
      ]
    },
    {
      "cell_type": "code",
      "source": [
        "# Download latest version\n",
        "path = kagglehub.dataset_download(\"ahsenwaheed/youtube-comments-spam-dataset\")\n",
        "\n",
        "files = os.listdir(path)\n",
        "print(\"Files in dataset directory:\", files)\n",
        "\n",
        "csv_file_path = os.path.join(path, \"Youtube-Spam-Dataset.csv\")\n",
        "df = pd.read_csv(csv_file_path)\n",
        "\n",
        "print(df.head())\n",
        "print(df.isnull().sum())\n",
        "print(df['CLASS'].unique())\n",
        "print(df.shape)"
      ],
      "metadata": {
        "colab": {
          "base_uri": "https://localhost:8080/"
        },
        "id": "heEcmxeD-R5V",
        "outputId": "170166f3-a1a8-44e2-be8c-283f96327353"
      },
      "execution_count": 370,
      "outputs": [
        {
          "output_type": "stream",
          "name": "stdout",
          "text": [
            "Files in dataset directory: ['Youtube-Spam-Dataset.csv']\n",
            "                                    COMMENT_ID            AUTHOR  \\\n",
            "0  LZQPQhLyRh80UYxNuaDWhIGQYNQ96IuCg-AYWqNPjpU         Julius NM   \n",
            "1  LZQPQhLyRh_C2cTtd9MvFRJedxydaVW-2sNg5Diuo4A       adam riyati   \n",
            "2  LZQPQhLyRh9MSZYnf8djyk0gEF9BHDPYrrK-qCczIY8  Evgeny Murashkin   \n",
            "3          z13jhp0bxqncu512g22wvzkasxmvvzjaz04   ElNino Melendez   \n",
            "4          z13fwbwp1oujthgqj04chlngpvzmtt3r3dw            GsMega   \n",
            "\n",
            "                  DATE                                            CONTENT  \\\n",
            "0  2013-11-07T06:20:48  Huh, anyway check out this you[tube] channel: ...   \n",
            "1  2013-11-07T12:37:15  Hey guys check out my new channel and our firs...   \n",
            "2  2013-11-08T17:34:21             just for test I have to say murdev.com   \n",
            "3  2013-11-09T08:28:43   me shaking my sexy ass on my channel enjoy ^_^ ﻿   \n",
            "4  2013-11-10T16:05:38            watch?v=vtaRGgvGtWQ   Check this out .﻿   \n",
            "\n",
            "                       VIDEO_NAME  CLASS  \n",
            "0  PSY - GANGNAM STYLE(?????) M/V      1  \n",
            "1  PSY - GANGNAM STYLE(?????) M/V      1  \n",
            "2  PSY - GANGNAM STYLE(?????) M/V      1  \n",
            "3  PSY - GANGNAM STYLE(?????) M/V      1  \n",
            "4  PSY - GANGNAM STYLE(?????) M/V      1  \n",
            "COMMENT_ID      0\n",
            "AUTHOR          0\n",
            "DATE          245\n",
            "CONTENT         0\n",
            "VIDEO_NAME      0\n",
            "CLASS           0\n",
            "dtype: int64\n",
            "[1 0]\n",
            "(1956, 6)\n"
          ]
        }
      ]
    },
    {
      "cell_type": "code",
      "source": [
        "df = prepare_dataset(df, \"CLASS\", \"CONTENT\")"
      ],
      "metadata": {
        "colab": {
          "base_uri": "https://localhost:8080/"
        },
        "id": "_wpIKL7IlwkF",
        "outputId": "42752204-5b1e-4ff6-c540-b1235a6bba74"
      },
      "execution_count": 371,
      "outputs": [
        {
          "output_type": "stream",
          "name": "stdout",
          "text": [
            "   label                                               text\n",
            "0      1  Huh, anyway check out this you[tube] channel: ...\n",
            "1      1  Hey guys check out my new channel and our firs...\n",
            "2      1             just for test I have to say murdev.com\n",
            "3      1   me shaking my sexy ass on my channel enjoy ^_^ ﻿\n",
            "4      1            watch?v=vtaRGgvGtWQ   Check this out .﻿\n",
            "label    0\n",
            "text     0\n",
            "dtype: int64\n",
            "[1 0]\n",
            "(1710, 2)\n"
          ]
        }
      ]
    },
    {
      "cell_type": "code",
      "source": [
        "concat_with(df)"
      ],
      "metadata": {
        "colab": {
          "base_uri": "https://localhost:8080/"
        },
        "id": "2WsrFwhVnO2X",
        "outputId": "c714b8fa-85f3-461c-a7ec-e60830de8b02"
      },
      "execution_count": 372,
      "outputs": [
        {
          "output_type": "stream",
          "name": "stdout",
          "text": [
            "Train shape: (97595, 2)\n",
            "Test shape: (24405, 2)\n"
          ]
        },
        {
          "output_type": "execute_result",
          "data": {
            "text/plain": [
              "(       label                                               text\n",
              " 0          0  Got fujitsu, ibm, hp, toshiba... Got a lot of ...\n",
              " 1          0  So how are you really. What are you up to. How...\n",
              " 2          0                    I see a cup of coffee animation\n",
              " 3          0      This pain couldn't have come at a worse time.\n",
              " 4          0                             Also where's the piece\n",
              " ...      ...                                                ...\n",
              " 97590      0  Rihanna is so beautiful and amazing ♥♥♥♥♥love ...\n",
              " 97591      0                                         waka waka﻿\n",
              " 97592      0             I hate it when Laura Bennett comes in﻿\n",
              " 97593      1  Hey Music Fans I really appreciate any of you ...\n",
              " 97594      0                    I could hear this for years ;3﻿\n",
              " \n",
              " [97595 rows x 2 columns],\n",
              "        label                                               text\n",
              " 0          0  Also sir, i sent you an email about how to log...\n",
              " 1          0                   Are you free now?can i call now?\n",
              " 2          0  My supervisor find 4 me one lor i thk his stud...\n",
              " 3          0  She.s good. She was wondering if you wont say ...\n",
              " 4          1  Sorry I missed your call let's talk when you h...\n",
              " ...      ...                                                ...\n",
              " 24400      1  I really ask nicely to view my vids:) I subscr...\n",
              " 24401      1  http://tankionline.com#friend=cd92db3f4 great ...\n",
              " 24402      1        Subscribe me, I will? subscribe you back!!!\n",
              " 24403      0                                           NICE :3﻿\n",
              " 24404      0                                     Eminem rocks!﻿\n",
              " \n",
              " [24405 rows x 2 columns])"
            ]
          },
          "metadata": {},
          "execution_count": 372
        }
      ]
    },
    {
      "cell_type": "code",
      "source": [
        "# Download latest version\n",
        "path = kagglehub.dataset_download(\"shantanudhakadd/email-spam-detection-dataset-classification\")\n",
        "\n",
        "files = os.listdir(path)\n",
        "print(\"Files in dataset directory:\", files)\n",
        "\n",
        "csv_file_path = os.path.join(path, \"spam.csv\")\n",
        "df = pd.read_csv(csv_file_path, encoding='latin1')\n",
        "\n",
        "df.drop(columns = ['Unnamed: 2', 'Unnamed: 3', 'Unnamed: 4'], inplace = True)\n",
        "\n",
        "print(df.head())"
      ],
      "metadata": {
        "colab": {
          "base_uri": "https://localhost:8080/"
        },
        "id": "Kxz5aqTX-ZW3",
        "outputId": "b8bcc3fe-3cf8-4a29-a859-4c348b1b29a0"
      },
      "execution_count": 373,
      "outputs": [
        {
          "output_type": "stream",
          "name": "stdout",
          "text": [
            "Files in dataset directory: ['spam.csv']\n",
            "     v1                                                 v2\n",
            "0   ham  Go until jurong point, crazy.. Available only ...\n",
            "1   ham                      Ok lar... Joking wif u oni...\n",
            "2  spam  Free entry in 2 a wkly comp to win FA Cup fina...\n",
            "3   ham  U dun say so early hor... U c already then say...\n",
            "4   ham  Nah I don't think he goes to usf, he lives aro...\n"
          ]
        }
      ]
    },
    {
      "cell_type": "code",
      "source": [
        "df = prepare_dataset(df, \"v1\", \"v2\")"
      ],
      "metadata": {
        "colab": {
          "base_uri": "https://localhost:8080/"
        },
        "id": "8SNmTkUwn2Xl",
        "outputId": "0c78e47a-9755-4aa0-a5d4-8aea85d5ca8a"
      },
      "execution_count": 374,
      "outputs": [
        {
          "output_type": "stream",
          "name": "stdout",
          "text": [
            "   label                                               text\n",
            "0      0  Go until jurong point, crazy.. Available only ...\n",
            "1      0                      Ok lar... Joking wif u oni...\n",
            "2      1  Free entry in 2 a wkly comp to win FA Cup fina...\n",
            "3      0  U dun say so early hor... U c already then say...\n",
            "4      0  Nah I don't think he goes to usf, he lives aro...\n",
            "label    0\n",
            "text     0\n",
            "dtype: int64\n",
            "[0 1]\n",
            "(5169, 2)\n"
          ]
        }
      ]
    },
    {
      "cell_type": "code",
      "source": [
        "concat_with(df)"
      ],
      "metadata": {
        "colab": {
          "base_uri": "https://localhost:8080/"
        },
        "id": "GB02j55qn724",
        "outputId": "da254554-b260-4bb3-8757-2aeeb67b3d16"
      },
      "execution_count": 375,
      "outputs": [
        {
          "output_type": "execute_result",
          "data": {
            "text/plain": [
              "(       label                                               text\n",
              " 0          0  Got fujitsu, ibm, hp, toshiba... Got a lot of ...\n",
              " 1          0  So how are you really. What are you up to. How...\n",
              " 2          0                    I see a cup of coffee animation\n",
              " 3          0      This pain couldn't have come at a worse time.\n",
              " 4          0                             Also where's the piece\n",
              " ...      ...                                                ...\n",
              " 97590      0  Rihanna is so beautiful and amazing ♥♥♥♥♥love ...\n",
              " 97591      0                                         waka waka﻿\n",
              " 97592      0             I hate it when Laura Bennett comes in﻿\n",
              " 97593      1  Hey Music Fans I really appreciate any of you ...\n",
              " 97594      0                    I could hear this for years ;3﻿\n",
              " \n",
              " [97595 rows x 2 columns],\n",
              "        label                                               text\n",
              " 0          0  Also sir, i sent you an email about how to log...\n",
              " 1          0                   Are you free now?can i call now?\n",
              " 2          0  My supervisor find 4 me one lor i thk his stud...\n",
              " 3          0  She.s good. She was wondering if you wont say ...\n",
              " 4          1  Sorry I missed your call let's talk when you h...\n",
              " ...      ...                                                ...\n",
              " 24400      1  I really ask nicely to view my vids:) I subscr...\n",
              " 24401      1  http://tankionline.com#friend=cd92db3f4 great ...\n",
              " 24402      1        Subscribe me, I will? subscribe you back!!!\n",
              " 24403      0                                           NICE :3﻿\n",
              " 24404      0                                     Eminem rocks!﻿\n",
              " \n",
              " [24405 rows x 2 columns])"
            ]
          },
          "metadata": {},
          "execution_count": 375
        }
      ]
    },
    {
      "cell_type": "code",
      "source": [
        "# Download latest version\n",
        "path = kagglehub.dataset_download(\"karthickveerakumar/spam-filter\")\n",
        "\n",
        "files = os.listdir(path)\n",
        "print(\"Files in dataset directory:\", files)\n",
        "\n",
        "csv_file_path = os.path.join(path, \"emails.csv\")\n",
        "df = pd.read_csv(csv_file_path)\n",
        "\n",
        "print(df.head())"
      ],
      "metadata": {
        "colab": {
          "base_uri": "https://localhost:8080/"
        },
        "id": "YwUzEjVxA3Xj",
        "outputId": "ef31f888-3e11-4418-c3d7-842b777c49d9"
      },
      "execution_count": 376,
      "outputs": [
        {
          "output_type": "stream",
          "name": "stdout",
          "text": [
            "Files in dataset directory: ['emails.csv']\n",
            "                                                text  spam\n",
            "0  Subject: naturally irresistible your corporate...     1\n",
            "1  Subject: the stock trading gunslinger  fanny i...     1\n",
            "2  Subject: unbelievable new homes made easy  im ...     1\n",
            "3  Subject: 4 color printing special  request add...     1\n",
            "4  Subject: do not have money , get software cds ...     1\n"
          ]
        }
      ]
    },
    {
      "cell_type": "code",
      "source": [
        "df = prepare_dataset(df, \"spam\", \"text\")"
      ],
      "metadata": {
        "colab": {
          "base_uri": "https://localhost:8080/"
        },
        "id": "zABA8OF1oVMB",
        "outputId": "f5ef3573-f9a0-4078-b36a-c38ea176cf22"
      },
      "execution_count": 377,
      "outputs": [
        {
          "output_type": "stream",
          "name": "stdout",
          "text": [
            "   label                                               text\n",
            "0      1  Subject: naturally irresistible your corporate...\n",
            "1      1  Subject: the stock trading gunslinger  fanny i...\n",
            "2      1  Subject: unbelievable new homes made easy  im ...\n",
            "3      1  Subject: 4 color printing special  request add...\n",
            "4      1  Subject: do not have money , get software cds ...\n",
            "label    0\n",
            "text     0\n",
            "dtype: int64\n",
            "[1 0]\n",
            "(5695, 2)\n"
          ]
        }
      ]
    },
    {
      "cell_type": "code",
      "source": [
        "df['text'] = df['text'].str.replace(r'Subject:\\s*', '', regex=True)"
      ],
      "metadata": {
        "id": "T7zayXFJo4CY"
      },
      "execution_count": 378,
      "outputs": []
    },
    {
      "cell_type": "code",
      "source": [
        "df = prepare_dataset(df, \"label\", \"text\")"
      ],
      "metadata": {
        "colab": {
          "base_uri": "https://localhost:8080/"
        },
        "id": "sdJ9ppyHo6rx",
        "outputId": "f995670d-c5aa-4c54-bbe2-9ac746813b5c"
      },
      "execution_count": 379,
      "outputs": [
        {
          "output_type": "stream",
          "name": "stdout",
          "text": [
            "   label                                               text\n",
            "0      1  naturally irresistible your corporate identity...\n",
            "1      1  the stock trading gunslinger  fanny is merrill...\n",
            "2      1  unbelievable new homes made easy  im wanting t...\n",
            "3      1  4 color printing special  request additional i...\n",
            "4      1  do not have money , get software cds from here...\n",
            "label    0\n",
            "text     0\n",
            "dtype: int64\n",
            "[1 0]\n",
            "(5695, 2)\n"
          ]
        }
      ]
    },
    {
      "cell_type": "code",
      "source": [
        "concat_with(df)"
      ],
      "metadata": {
        "colab": {
          "base_uri": "https://localhost:8080/"
        },
        "id": "WXoQrv5_oYgf",
        "outputId": "75283418-43f0-48d0-d242-9e5ef2c20e85"
      },
      "execution_count": 380,
      "outputs": [
        {
          "output_type": "execute_result",
          "data": {
            "text/plain": [
              "(       label                                               text\n",
              " 0          0  Got fujitsu, ibm, hp, toshiba... Got a lot of ...\n",
              " 1          0  So how are you really. What are you up to. How...\n",
              " 2          0                    I see a cup of coffee animation\n",
              " 3          0      This pain couldn't have come at a worse time.\n",
              " 4          0                             Also where's the piece\n",
              " ...      ...                                                ...\n",
              " 97590      0  Rihanna is so beautiful and amazing ♥♥♥♥♥love ...\n",
              " 97591      0                                         waka waka﻿\n",
              " 97592      0             I hate it when Laura Bennett comes in﻿\n",
              " 97593      1  Hey Music Fans I really appreciate any of you ...\n",
              " 97594      0                    I could hear this for years ;3﻿\n",
              " \n",
              " [97595 rows x 2 columns],\n",
              "        label                                               text\n",
              " 0          0  Also sir, i sent you an email about how to log...\n",
              " 1          0                   Are you free now?can i call now?\n",
              " 2          0  My supervisor find 4 me one lor i thk his stud...\n",
              " 3          0  She.s good. She was wondering if you wont say ...\n",
              " 4          1  Sorry I missed your call let's talk when you h...\n",
              " ...      ...                                                ...\n",
              " 24400      1  I really ask nicely to view my vids:) I subscr...\n",
              " 24401      1  http://tankionline.com#friend=cd92db3f4 great ...\n",
              " 24402      1        Subscribe me, I will? subscribe you back!!!\n",
              " 24403      0                                           NICE :3﻿\n",
              " 24404      0                                     Eminem rocks!﻿\n",
              " \n",
              " [24405 rows x 2 columns])"
            ]
          },
          "metadata": {},
          "execution_count": 380
        }
      ]
    },
    {
      "cell_type": "code",
      "source": [
        "import re\n",
        "from nltk.stem import WordNetLemmatizer\n",
        "from nltk.corpus import stopwords\n",
        "import nltk\n",
        "\n",
        "nltk.download('stopwords')\n",
        "nltk.download('wordnet')\n",
        "\n",
        "class TextPreprocessor:\n",
        "    def __init__(self):\n",
        "        self.stop_words = set(stopwords.words('english'))\n",
        "        self.lemmatizer = WordNetLemmatizer()\n",
        "\n",
        "    def clean_text(self, text):\n",
        "        text = re.sub(r'[^a-zA-Z0-9\\s]', '', text)\n",
        "        return text\n",
        "\n",
        "    def to_lowercase(self, text):\n",
        "        return text.lower()\n",
        "\n",
        "    def remove_stopwords(self, text):\n",
        "        words = text.split()\n",
        "        return ' '.join([word for word in words if word not in self.stop_words])\n",
        "\n",
        "    def lemmatize_text(self, text):\n",
        "        words = text.split()\n",
        "        return ' '.join([self.lemmatizer.lemmatize(word) for word in words])\n",
        "\n",
        "    def preprocess_text(self, text):\n",
        "        text = self.clean_text(text)\n",
        "        text = self.to_lowercase(text)\n",
        "        text = self.remove_stopwords(text)\n",
        "        text = self.lemmatize_text(text)\n",
        "        return text\n",
        "\n",
        "textPreprocessor = TextPreprocessor()"
      ],
      "metadata": {
        "colab": {
          "base_uri": "https://localhost:8080/"
        },
        "id": "zx3nWu1rP5ze",
        "outputId": "bb91f165-6552-474f-fc09-99738c7c18c6"
      },
      "execution_count": 381,
      "outputs": [
        {
          "output_type": "stream",
          "name": "stderr",
          "text": [
            "[nltk_data] Downloading package stopwords to /root/nltk_data...\n",
            "[nltk_data]   Package stopwords is already up-to-date!\n",
            "[nltk_data] Downloading package wordnet to /root/nltk_data...\n",
            "[nltk_data]   Package wordnet is already up-to-date!\n"
          ]
        }
      ]
    },
    {
      "cell_type": "code",
      "source": [
        "main_train_df['text'] = main_train_df['text'].apply(textPreprocessor.preprocess_text)\n",
        "print(main_train_df)"
      ],
      "metadata": {
        "colab": {
          "base_uri": "https://localhost:8080/"
        },
        "id": "_9qc5mEPQRJn",
        "outputId": "61b6d9dd-fecf-4f52-cd79-081d0b525dd5"
      },
      "execution_count": 382,
      "outputs": [
        {
          "output_type": "stream",
          "name": "stdout",
          "text": [
            "       label                                               text\n",
            "0          0       got fujitsu ibm hp toshiba got lot model say\n",
            "1          0                                 really hows master\n",
            "2          0                           see cup coffee animation\n",
            "3          0                       pain couldnt come worse time\n",
            "4          0                                  also wheres piece\n",
            "...      ...                                                ...\n",
            "97590      0  rihanna beautiful amazing love much forever ri...\n",
            "97591      0                                          waka waka\n",
            "97592      0                            hate laura bennett come\n",
            "97593      1  hey music fan really appreciate take time read...\n",
            "97594      0                                  could hear year 3\n",
            "\n",
            "[97595 rows x 2 columns]\n"
          ]
        }
      ]
    },
    {
      "cell_type": "code",
      "source": [
        "main_test_df['text'] = main_test_df['text'].apply(textPreprocessor.preprocess_text)\n",
        "print(main_test_df)"
      ],
      "metadata": {
        "colab": {
          "base_uri": "https://localhost:8080/"
        },
        "id": "Y1P5AnD7YVQd",
        "outputId": "dad74211-27d1-422b-9718-1f4371dd1e31"
      },
      "execution_count": 383,
      "outputs": [
        {
          "output_type": "stream",
          "name": "stdout",
          "text": [
            "       label                                               text\n",
            "0          0  also sir sent email log usc payment portal ill...\n",
            "1          0                                   free nowcan call\n",
            "2          0  supervisor find 4 one lor thk student havent a...\n",
            "3          0  shes good wondering wont say hi shes smiling c...\n",
            "4          1     sorry missed call let talk time im 07090201529\n",
            "...      ...                                                ...\n",
            "24400      1         really ask nicely view vids subscribe back\n",
            "24401      1  httptankionlinecomfriendcd92db3f4 great game c...\n",
            "24402      1                           subscribe subscribe back\n",
            "24403      0                                             nice 3\n",
            "24404      0                                        eminem rock\n",
            "\n",
            "[24405 rows x 2 columns]\n"
          ]
        }
      ]
    },
    {
      "cell_type": "code",
      "source": [
        "from google.colab import files\n",
        "\n",
        "main_train_df.to_csv('spam_text_train_dataset.csv', index=False)\n",
        "files.download('spam_text_train_dataset.csv')\n",
        "\n",
        "main_test_df.to_csv('spam_text_test_dataset.csv', index=False)\n",
        "files.download('spam_text_test_dataset.csv')"
      ],
      "metadata": {
        "colab": {
          "base_uri": "https://localhost:8080/",
          "height": 17
        },
        "id": "2K94HMSwTR5g",
        "outputId": "3730583c-8c20-49d2-fe12-22d8e38750f6"
      },
      "execution_count": 384,
      "outputs": [
        {
          "output_type": "display_data",
          "data": {
            "text/plain": [
              "<IPython.core.display.Javascript object>"
            ],
            "application/javascript": [
              "\n",
              "    async function download(id, filename, size) {\n",
              "      if (!google.colab.kernel.accessAllowed) {\n",
              "        return;\n",
              "      }\n",
              "      const div = document.createElement('div');\n",
              "      const label = document.createElement('label');\n",
              "      label.textContent = `Downloading \"${filename}\": `;\n",
              "      div.appendChild(label);\n",
              "      const progress = document.createElement('progress');\n",
              "      progress.max = size;\n",
              "      div.appendChild(progress);\n",
              "      document.body.appendChild(div);\n",
              "\n",
              "      const buffers = [];\n",
              "      let downloaded = 0;\n",
              "\n",
              "      const channel = await google.colab.kernel.comms.open(id);\n",
              "      // Send a message to notify the kernel that we're ready.\n",
              "      channel.send({})\n",
              "\n",
              "      for await (const message of channel.messages) {\n",
              "        // Send a message to notify the kernel that we're ready.\n",
              "        channel.send({})\n",
              "        if (message.buffers) {\n",
              "          for (const buffer of message.buffers) {\n",
              "            buffers.push(buffer);\n",
              "            downloaded += buffer.byteLength;\n",
              "            progress.value = downloaded;\n",
              "          }\n",
              "        }\n",
              "      }\n",
              "      const blob = new Blob(buffers, {type: 'application/binary'});\n",
              "      const a = document.createElement('a');\n",
              "      a.href = window.URL.createObjectURL(blob);\n",
              "      a.download = filename;\n",
              "      div.appendChild(a);\n",
              "      a.click();\n",
              "      div.remove();\n",
              "    }\n",
              "  "
            ]
          },
          "metadata": {}
        },
        {
          "output_type": "display_data",
          "data": {
            "text/plain": [
              "<IPython.core.display.Javascript object>"
            ],
            "application/javascript": [
              "download(\"download_338c3f2e-e372-4615-a090-272d5fc17159\", \"spam_text_train_dataset.csv\", 114046300)"
            ]
          },
          "metadata": {}
        },
        {
          "output_type": "display_data",
          "data": {
            "text/plain": [
              "<IPython.core.display.Javascript object>"
            ],
            "application/javascript": [
              "\n",
              "    async function download(id, filename, size) {\n",
              "      if (!google.colab.kernel.accessAllowed) {\n",
              "        return;\n",
              "      }\n",
              "      const div = document.createElement('div');\n",
              "      const label = document.createElement('label');\n",
              "      label.textContent = `Downloading \"${filename}\": `;\n",
              "      div.appendChild(label);\n",
              "      const progress = document.createElement('progress');\n",
              "      progress.max = size;\n",
              "      div.appendChild(progress);\n",
              "      document.body.appendChild(div);\n",
              "\n",
              "      const buffers = [];\n",
              "      let downloaded = 0;\n",
              "\n",
              "      const channel = await google.colab.kernel.comms.open(id);\n",
              "      // Send a message to notify the kernel that we're ready.\n",
              "      channel.send({})\n",
              "\n",
              "      for await (const message of channel.messages) {\n",
              "        // Send a message to notify the kernel that we're ready.\n",
              "        channel.send({})\n",
              "        if (message.buffers) {\n",
              "          for (const buffer of message.buffers) {\n",
              "            buffers.push(buffer);\n",
              "            downloaded += buffer.byteLength;\n",
              "            progress.value = downloaded;\n",
              "          }\n",
              "        }\n",
              "      }\n",
              "      const blob = new Blob(buffers, {type: 'application/binary'});\n",
              "      const a = document.createElement('a');\n",
              "      a.href = window.URL.createObjectURL(blob);\n",
              "      a.download = filename;\n",
              "      div.appendChild(a);\n",
              "      a.click();\n",
              "      div.remove();\n",
              "    }\n",
              "  "
            ]
          },
          "metadata": {}
        },
        {
          "output_type": "display_data",
          "data": {
            "text/plain": [
              "<IPython.core.display.Javascript object>"
            ],
            "application/javascript": [
              "download(\"download_dce2de6c-181b-4f20-b315-bd5ac15ee08b\", \"spam_text_test_dataset.csv\", 39451436)"
            ]
          },
          "metadata": {}
        }
      ]
    },
    {
      "cell_type": "markdown",
      "source": [],
      "metadata": {
        "id": "SlFsvS86rYq2"
      }
    },
    {
      "cell_type": "code",
      "source": [],
      "metadata": {
        "id": "FKo0RFxB0Ibe"
      },
      "execution_count": null,
      "outputs": []
    }
  ]
}